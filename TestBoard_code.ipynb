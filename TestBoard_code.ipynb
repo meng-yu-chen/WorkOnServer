{
 "cells": [
  {
   "cell_type": "code",
   "execution_count": 17,
   "id": "ffe9ce20",
   "metadata": {},
   "outputs": [
    {
     "name": "stdout",
     "output_type": "stream",
     "text": [
      "Requirement already satisfied: gdown in /opt/conda/lib/python3.10/site-packages (4.7.1)\n",
      "Requirement already satisfied: tqdm in /opt/conda/lib/python3.10/site-packages (from gdown) (4.64.1)\n",
      "Requirement already satisfied: six in /opt/conda/lib/python3.10/site-packages (from gdown) (1.16.0)\n",
      "Requirement already satisfied: requests[socks] in /opt/conda/lib/python3.10/site-packages (from gdown) (2.28.1)\n",
      "Requirement already satisfied: filelock in /opt/conda/lib/python3.10/site-packages (from gdown) (3.9.0)\n",
      "Requirement already satisfied: beautifulsoup4 in /opt/conda/lib/python3.10/site-packages (from gdown) (4.11.1)\n",
      "Requirement already satisfied: soupsieve>1.2 in /opt/conda/lib/python3.10/site-packages (from beautifulsoup4->gdown) (2.3.2.post1)\n",
      "Requirement already satisfied: urllib3<1.27,>=1.21.1 in /opt/conda/lib/python3.10/site-packages (from requests[socks]->gdown) (1.26.14)\n",
      "Requirement already satisfied: charset-normalizer<3,>=2 in /opt/conda/lib/python3.10/site-packages (from requests[socks]->gdown) (2.0.4)\n",
      "Requirement already satisfied: idna<4,>=2.5 in /opt/conda/lib/python3.10/site-packages (from requests[socks]->gdown) (3.4)\n",
      "Requirement already satisfied: certifi>=2017.4.17 in /opt/conda/lib/python3.10/site-packages (from requests[socks]->gdown) (2022.12.7)\n",
      "Requirement already satisfied: PySocks!=1.5.7,>=1.5.6 in /opt/conda/lib/python3.10/site-packages (from requests[socks]->gdown) (1.7.1)\n",
      "\u001b[33mWARNING: Running pip as the 'root' user can result in broken permissions and conflicting behaviour with the system package manager. It is recommended to use a virtual environment instead: https://pip.pypa.io/warnings/venv\u001b[0m\u001b[33m\n",
      "\u001b[0m/opt/conda/lib/python3.10/site-packages/gdown/cli.py:126: FutureWarning: Option `--id` was deprecated in version 4.3.1 and will be removed in 5.0. You don't need to pass it anymore to use a file ID.\n",
      "  warnings.warn(\n",
      "Downloading...\n",
      "From: https://drive.google.com/uc?id=1kLSW_-cW2Huj7bh84YTdimGBOJaODiOS\n",
      "To: /home/covid.train.csv\n",
      "100%|██████████████████████████████████████| 2.49M/2.49M [00:00<00:00, 68.6MB/s]\n",
      "/opt/conda/lib/python3.10/site-packages/gdown/cli.py:126: FutureWarning: Option `--id` was deprecated in version 4.3.1 and will be removed in 5.0. You don't need to pass it anymore to use a file ID.\n",
      "  warnings.warn(\n",
      "Downloading...\n",
      "From: https://drive.google.com/uc?id=1iiI5qROrAhZn-o4FPqsE97bMzDEFvIdg\n",
      "To: /home/covid.test.csv\n",
      "100%|████████████████████████████████████████| 993k/993k [00:00<00:00, 40.6MB/s]\n",
      "hi\n"
     ]
    }
   ],
   "source": [
    "!pip install --upgrade gdown\n",
    "\n",
    "tr_path = 'covid.train.csv'  # path to training data\n",
    "tt_path = 'covid.test.csv'   # path to testing data\n",
    "\n",
    "!gdown --id '1kLSW_-cW2Huj7bh84YTdimGBOJaODiOS' --output covid.train.csv\n",
    "!gdown --id '1iiI5qROrAhZn-o4FPqsE97bMzDEFvIdg' --output covid.test.csv\n",
    "print('hi')"
   ]
  },
  {
   "cell_type": "markdown",
   "id": "aba81b68",
   "metadata": {},
   "source": [
    "# Import package"
   ]
  },
  {
   "cell_type": "code",
   "execution_count": 18,
   "id": "6c6650f2",
   "metadata": {},
   "outputs": [
    {
     "name": "stdout",
     "output_type": "stream",
     "text": [
      "Requirement already satisfied: matplotlib in /opt/conda/lib/python3.10/site-packages (3.7.2)\n",
      "Requirement already satisfied: cycler>=0.10 in /opt/conda/lib/python3.10/site-packages (from matplotlib) (0.11.0)\n",
      "Requirement already satisfied: packaging>=20.0 in /opt/conda/lib/python3.10/site-packages (from matplotlib) (23.1)\n",
      "Requirement already satisfied: kiwisolver>=1.0.1 in /opt/conda/lib/python3.10/site-packages (from matplotlib) (1.4.4)\n",
      "Requirement already satisfied: pillow>=6.2.0 in /opt/conda/lib/python3.10/site-packages (from matplotlib) (9.4.0)\n",
      "Requirement already satisfied: pyparsing<3.1,>=2.3.1 in /opt/conda/lib/python3.10/site-packages (from matplotlib) (3.0.9)\n",
      "Requirement already satisfied: python-dateutil>=2.7 in /opt/conda/lib/python3.10/site-packages (from matplotlib) (2.8.2)\n",
      "Requirement already satisfied: numpy>=1.20 in /opt/conda/lib/python3.10/site-packages (from matplotlib) (1.23.5)\n",
      "Requirement already satisfied: fonttools>=4.22.0 in /opt/conda/lib/python3.10/site-packages (from matplotlib) (4.41.0)\n",
      "Requirement already satisfied: contourpy>=1.0.1 in /opt/conda/lib/python3.10/site-packages (from matplotlib) (1.1.0)\n",
      "Requirement already satisfied: six>=1.5 in /opt/conda/lib/python3.10/site-packages (from python-dateutil>=2.7->matplotlib) (1.16.0)\n",
      "\u001b[33mWARNING: Running pip as the 'root' user can result in broken permissions and conflicting behaviour with the system package manager. It is recommended to use a virtual environment instead: https://pip.pypa.io/warnings/venv\u001b[0m\u001b[33m\n",
      "\u001b[0mRequirement already satisfied: pandas in /opt/conda/lib/python3.10/site-packages (2.0.3)\n",
      "Requirement already satisfied: numpy>=1.21.0 in /opt/conda/lib/python3.10/site-packages (from pandas) (1.23.5)\n",
      "Requirement already satisfied: pytz>=2020.1 in /opt/conda/lib/python3.10/site-packages (from pandas) (2022.7)\n",
      "Requirement already satisfied: tzdata>=2022.1 in /opt/conda/lib/python3.10/site-packages (from pandas) (2023.3)\n",
      "Requirement already satisfied: python-dateutil>=2.8.2 in /opt/conda/lib/python3.10/site-packages (from pandas) (2.8.2)\n",
      "Requirement already satisfied: six>=1.5 in /opt/conda/lib/python3.10/site-packages (from python-dateutil>=2.8.2->pandas) (1.16.0)\n",
      "\u001b[33mWARNING: Running pip as the 'root' user can result in broken permissions and conflicting behaviour with the system package manager. It is recommended to use a virtual environment instead: https://pip.pypa.io/warnings/venv\u001b[0m\u001b[33m\n",
      "\u001b[0m"
     ]
    }
   ],
   "source": [
    "!pip install matplotlib\n",
    "!pip install pandas\n",
    "# Numerical Operations\n",
    "import math\n",
    "import numpy as np\n",
    "\n",
    "# Reading/Writing Data\n",
    "import pandas as pd\n",
    "import os\n",
    "import csv\n",
    "\n",
    "# For Progress Bar\n",
    "from tqdm import tqdm\n",
    "\n",
    "# Pytorch\n",
    "import torch\n",
    "import torch.nn as nn\n",
    "from torch.utils.data import Dataset, DataLoader, random_split\n",
    "\n",
    "# For plotting learning curve\n",
    "from torch.utils.tensorboard import SummaryWriter"
   ]
  },
  {
   "cell_type": "code",
   "execution_count": 19,
   "id": "8905e974",
   "metadata": {},
   "outputs": [],
   "source": [
    "def same_seed(seed):\n",
    "    '''Fixes random number generator seeds for reproducibility.'''\n",
    "    torch.backends.cudnn.deterministic = True\n",
    "    torch.backends.cudnn.benchmark = False\n",
    "    np.random.seed(seed)\n",
    "    torch.manual_seed(seed)\n",
    "    if torch.cuda.is_available():\n",
    "        torch.cuda.manual_seed_all(seed)\n",
    "\n",
    "def train_valid_split(data_set, valid_ratio, seed):\n",
    "    '''Split provided training data into training set and validation set'''\n",
    "    valid_set_size = int(valid_ratio * len(data_set))\n",
    "    train_set_size = len(data_set) - valid_set_size\n",
    "    train_set, valid_set = random_split(data_set, [train_set_size, valid_set_size], generator=torch.Generator().manual_seed(seed))\n",
    "    return np.array(train_set), np.array(valid_set)\n",
    "\n",
    "def predict(test_loader, model, device):\n",
    "    model.eval() # Set your model to evaluation mode.\n",
    "    preds = []\n",
    "    for x in tqdm(test_loader):\n",
    "        x = x.to(device)\n",
    "        with torch.no_grad():\n",
    "            pred = model(x)\n",
    "            preds.append(pred.detach().cpu())\n",
    "    preds = torch.cat(preds, dim=0).numpy()\n",
    "    return preds"
   ]
  },
  {
   "cell_type": "markdown",
   "id": "385f4235",
   "metadata": {},
   "source": [
    "# Define dataset"
   ]
  },
  {
   "cell_type": "code",
   "execution_count": 20,
   "id": "47e5d413",
   "metadata": {},
   "outputs": [],
   "source": [
    "class COVID19Dataset(Dataset):\n",
    "    '''\n",
    "    x: Features.\n",
    "    y: Targets, if none, do prediction.\n",
    "    '''\n",
    "    def __init__(self, x, y=None):\n",
    "        if y is None:\n",
    "            self.y = y\n",
    "        else:\n",
    "            self.y = torch.FloatTensor(y)\n",
    "        self.x = torch.FloatTensor(x)\n",
    "\n",
    "    def __getitem__(self, idx):\n",
    "        if self.y is None:\n",
    "            return self.x[idx]\n",
    "        else:\n",
    "            return self.x[idx], self.y[idx]\n",
    "\n",
    "    def __len__(self):\n",
    "        return len(self.x)"
   ]
  },
  {
   "cell_type": "markdown",
   "id": "86e5c482",
   "metadata": {},
   "source": [
    "# Dataloader"
   ]
  },
  {
   "cell_type": "code",
   "execution_count": 21,
   "id": "c0e4c194",
   "metadata": {},
   "outputs": [],
   "source": [
    "#DataLoader: 把dataset變成一組一組的batch\n",
    "def prep_dataloader(path, mode, batch_size, n_jobs=0, target_only=True):\n",
    "    ''' Generates a dataset, then is put into a dataloader. '''\n",
    "    dataset = COVID19Dataset(path, mode=mode, target_only=target_only)  # Construct dataset\n",
    "    dataloader = DataLoader(\n",
    "        dataset, batch_size,\n",
    "        shuffle=(mode == 'train'), drop_last=False,     #shuffle:資料要不要打亂 train-true, test-false\n",
    "        num_workers=n_jobs, pin_memory=True)         #drop_last=true 在訓練時如果數據總量無法整除batch_size，那麼這個dataloader就會丟掉最後一個batch       \n",
    "                                    #pin_memory把資料所在CPU，不用重新載入花時間    # Construct dataloader\n",
    "    return dataloader"
   ]
  },
  {
   "cell_type": "markdown",
   "id": "86836aa3",
   "metadata": {},
   "source": [
    "# Define network"
   ]
  },
  {
   "cell_type": "code",
   "execution_count": 22,
   "id": "007491f5",
   "metadata": {},
   "outputs": [],
   "source": [
    "class My_Model(nn.Module):\n",
    "    def __init__(self, input_dim):\n",
    "        super(My_Model, self).__init__()\n",
    "        # TODO: modify model's structure, be aware of dimensions.\n",
    "        self.layers = nn.Sequential(\n",
    "            nn.Linear(input_dim, 16),\n",
    "            nn.ReLU(),\n",
    "            nn.Linear(16, 8),\n",
    "            nn.ReLU(),\n",
    "            nn.Linear(8, 1)\n",
    "        )\n",
    "\n",
    "    def forward(self, x):\n",
    "        x = self.layers(x)\n",
    "        x = x.squeeze(1) # (B, 1) -> (B)\n",
    "        return x"
   ]
  },
  {
   "cell_type": "markdown",
   "id": "65e48d55",
   "metadata": {},
   "source": [
    "# Feature Selection"
   ]
  },
  {
   "cell_type": "code",
   "execution_count": 23,
   "id": "d645940e",
   "metadata": {},
   "outputs": [],
   "source": [
    "def select_feat(train_data, valid_data, test_data, select_all=True):\n",
    "    '''Selects useful features to perform regression'''\n",
    "    y_train, y_valid = train_data[:,-1], valid_data[:,-1]\n",
    "    raw_x_train, raw_x_valid, raw_x_test = train_data[:,:-1], valid_data[:,:-1], test_data\n",
    "\n",
    "    if select_all:\n",
    "        feat_idx = list(range(raw_x_train.shape[1]))\n",
    "    else:\n",
    "        feat_idx = [0,1,2,3,4] # TODO: Select suitable feature columns.\n",
    "\n",
    "    return raw_x_train[:,feat_idx], raw_x_valid[:,feat_idx], raw_x_test[:,feat_idx], y_train, y_valid"
   ]
  },
  {
   "cell_type": "markdown",
   "id": "75beaa2d",
   "metadata": {},
   "source": [
    "# Training"
   ]
  },
  {
   "cell_type": "code",
   "execution_count": 24,
   "id": "e8bf0795",
   "metadata": {},
   "outputs": [],
   "source": [
    "def trainer(train_loader, valid_loader, model, config, device):\n",
    "\n",
    "    criterion = nn.MSELoss(reduction='mean') # Define your loss function, do not modify this.\n",
    "\n",
    "    # Define your optimization algorithm.\n",
    "    # TODO: Please check https://pytorch.org/docs/stable/optim.html to get more available algorithms.\n",
    "    # TODO: L2 regularization (optimizer(weight decay...) or implement by your self).\n",
    "    optimizer = torch.optim.SGD(model.parameters(), lr=config['learning_rate'], momentum=0.9)\n",
    "\n",
    "    writer = SummaryWriter('./log') # Writer of tensoboard.\n",
    "\n",
    "    if not os.path.isdir('./models'):\n",
    "        os.mkdir('./models') # Create directory of saving models.\n",
    "\n",
    "    n_epochs, best_loss, step, early_stop_count = config['n_epochs'], math.inf, 0, 0\n",
    "\n",
    "    for epoch in range(n_epochs):\n",
    "        model.train() # Set your model to train mode.\n",
    "        loss_record = []\n",
    "\n",
    "        # tqdm is a package to visualize your training progress.\n",
    "        train_pbar = tqdm(train_loader, position=0, leave=True)\n",
    "\n",
    "        for x, y in train_pbar:\n",
    "            optimizer.zero_grad()               # Set gradient to zero.\n",
    "            x, y = x.to(device), y.to(device)   # Move your data to device.\n",
    "            pred = model(x)\n",
    "            loss = criterion(pred, y)\n",
    "            loss.backward()                     # Compute gradient(backpropagation).\n",
    "            optimizer.step()                    # Update parameters.\n",
    "            step += 1\n",
    "            loss_record.append(loss.detach().item())\n",
    "\n",
    "            # Display current epoch number and loss on tqdm progress bar.\n",
    "            train_pbar.set_description(f'Epoch [{epoch+1}/{n_epochs}]')\n",
    "            train_pbar.set_postfix({'loss': loss.detach().item()})\n",
    "\n",
    "        mean_train_loss = sum(loss_record)/len(loss_record)\n",
    "        writer.add_scalar('Loss/train', mean_train_loss, step)\n",
    "\n",
    "        model.eval() # Set your model to evaluation mode.\n",
    "        loss_record = []\n",
    "        for x, y in valid_loader:\n",
    "            x, y = x.to(device), y.to(device)\n",
    "            with torch.no_grad():\n",
    "                pred = model(x)\n",
    "                loss = criterion(pred, y)\n",
    "\n",
    "            loss_record.append(loss.item())\n",
    "\n",
    "        mean_valid_loss = sum(loss_record)/len(loss_record)\n",
    "        print(f'Epoch [{epoch+1}/{n_epochs}]: Train loss: {mean_train_loss:.4f}, Valid loss: {mean_valid_loss:.4f}')\n",
    "        writer.add_scalar('Loss/valid', mean_valid_loss, step)\n",
    "\n",
    "        if mean_valid_loss < best_loss:\n",
    "            best_loss = mean_valid_loss\n",
    "            torch.save(model.state_dict(), config['save_path']) # Save your best model\n",
    "            print('Saving model with loss {:.3f}...'.format(best_loss))\n",
    "            early_stop_count = 0\n",
    "        else:\n",
    "            early_stop_count += 1\n",
    "\n",
    "        if early_stop_count >= config['early_stop']:\n",
    "            print('\\nModel is not improving, so we halt the training session.')\n",
    "            return"
   ]
  },
  {
   "cell_type": "markdown",
   "id": "7db097d4",
   "metadata": {},
   "source": [
    "# Validation"
   ]
  },
  {
   "cell_type": "code",
   "execution_count": 25,
   "id": "e491e233",
   "metadata": {},
   "outputs": [],
   "source": [
    "def dev(dv_set, model, device):\n",
    "    model.eval()                  #切換測試模式           # set model to evalutation mode\n",
    "    total_loss = 0\n",
    "    for x, y in dv_set:                         # iterate through the dataloader\n",
    "        x, y = x.to(device), y.to(device)       # move data to device (cpu/cuda)\n",
    "        with torch.no_grad():              #關掉梯度計算     # disable gradient calculation\n",
    "            pred = model(x)                 #算output    # forward pass (compute output)\n",
    "            mse_loss = model.cal_loss(pred, y)       #算loss # compute loss\n",
    "        total_loss += mse_loss.detach().cpu().item() * len(x) #*有幾個 ??為啥是這樣算 # accumulate loss\n",
    "    total_loss = total_loss / len(dv_set.dataset)              # compute averaged loss\n",
    "\n",
    "    return total_loss"
   ]
  },
  {
   "cell_type": "markdown",
   "id": "a0f3d06e",
   "metadata": {},
   "source": [
    "# Testing"
   ]
  },
  {
   "cell_type": "code",
   "execution_count": 26,
   "id": "0b401146",
   "metadata": {},
   "outputs": [],
   "source": [
    "def test(tt_set, model, device):\n",
    "    model.eval()                                # set model to evalutation mode\n",
    "    preds = []\n",
    "    for x in tt_set:                            # iterate through the dataloader\n",
    "        x = x.to(device)                        # move data to device (cpu/cuda)\n",
    "        with torch.no_grad():                   # disable gradient calculation\n",
    "            pred = model(x)                     # forward pass (compute output)\n",
    "            preds.append(pred.detach().cpu())   # collect prediction\n",
    "    preds = torch.cat(preds, dim=0).numpy()     # concatenate all predictions and convert to a numpy array\n",
    "    return preds"
   ]
  },
  {
   "cell_type": "markdown",
   "id": "62c68854",
   "metadata": {},
   "source": [
    "# Setup hyperparameter"
   ]
  },
  {
   "cell_type": "code",
   "execution_count": 27,
   "id": "8e56cee6",
   "metadata": {},
   "outputs": [],
   "source": [
    "device = 'cuda' if torch.cuda.is_available() else 'cpu'\n",
    "config = {\n",
    "    'seed': 5201314,      # Your seed number, you can pick your lucky number. :)\n",
    "    'select_all': True,   # Whether to use all features.\n",
    "    'valid_ratio': 0.2,   # validation_size = train_size * valid_ratio\n",
    "    'n_epochs': 300,     # Number of epochs.\n",
    "    'batch_size': 256,\n",
    "    'learning_rate': 1e-5,\n",
    "    'early_stop': 400,    # If model has not improved for this many consecutive epochs, stop training.\n",
    "    'save_path': './models/model.ckpt'  # Your model will be saved here.\n",
    "}"
   ]
  },
  {
   "cell_type": "markdown",
   "id": "832a6c6f",
   "metadata": {},
   "source": [
    "# Load data and model"
   ]
  },
  {
   "cell_type": "code",
   "execution_count": 28,
   "id": "a2764c91",
   "metadata": {},
   "outputs": [
    {
     "name": "stdout",
     "output_type": "stream",
     "text": [
      "train_data size: (2160, 118)\n",
      "valid_data size: (539, 118)\n",
      "test_data size: (1078, 117)\n",
      "number of features: 117\n"
     ]
    }
   ],
   "source": [
    "# Set seed for reproducibility\n",
    "same_seed(config['seed'])\n",
    "\n",
    "\n",
    "# train_data size: 2699 x 118 (id + 37 states + 16 features x 5 days)\n",
    "# test_data size: 1078 x 117 (without last day's positive rate)\n",
    "train_data, test_data = pd.read_csv('./covid.train.csv').values, pd.read_csv('./covid.test.csv').values\n",
    "train_data, valid_data = train_valid_split(train_data, config['valid_ratio'], config['seed'])\n",
    "\n",
    "# Print out the data size.\n",
    "print(f\"\"\"train_data size: {train_data.shape}\n",
    "valid_data size: {valid_data.shape}\n",
    "test_data size: {test_data.shape}\"\"\")\n",
    "\n",
    "# Select features\n",
    "x_train, x_valid, x_test, y_train, y_valid = select_feat(train_data, valid_data, test_data, config['select_all'])\n",
    "\n",
    "# Print out the number of features.\n",
    "print(f'number of features: {x_train.shape[1]}')\n",
    "\n",
    "train_dataset, valid_dataset, test_dataset = COVID19Dataset(x_train, y_train), \\\n",
    "                                            COVID19Dataset(x_valid, y_valid), \\\n",
    "                                            COVID19Dataset(x_test)\n",
    "\n",
    "# Pytorch data loader loads pytorch dataset into batches.\n",
    "train_loader = DataLoader(train_dataset, batch_size=config['batch_size'], shuffle=True, pin_memory=True)\n",
    "valid_loader = DataLoader(valid_dataset, batch_size=config['batch_size'], shuffle=True, pin_memory=True)\n",
    "test_loader = DataLoader(test_dataset, batch_size=config['batch_size'], shuffle=False, pin_memory=True)"
   ]
  },
  {
   "cell_type": "markdown",
   "id": "dbe6cbf4",
   "metadata": {},
   "source": [
    "# Start training"
   ]
  },
  {
   "cell_type": "code",
   "execution_count": 29,
   "id": "12f0dac4",
   "metadata": {},
   "outputs": [
    {
     "name": "stderr",
     "output_type": "stream",
     "text": [
      "Epoch [1/300]: 100%|████████████████████████████████████████████████████████████████████████████████| 9/9 [00:00<00:00, 115.93it/s, loss=60.4]\n"
     ]
    },
    {
     "name": "stdout",
     "output_type": "stream",
     "text": [
      "Epoch [1/300]: Train loss: 134.2442, Valid loss: 107.2155\n",
      "Saving model with loss 107.216...\n"
     ]
    },
    {
     "name": "stderr",
     "output_type": "stream",
     "text": [
      "Epoch [2/300]: 100%|████████████████████████████████████████████████████████████████████████████████| 9/9 [00:00<00:00, 112.37it/s, loss=65.9]\n"
     ]
    },
    {
     "name": "stdout",
     "output_type": "stream",
     "text": [
      "Epoch [2/300]: Train loss: 69.8928, Valid loss: 50.8181\n",
      "Saving model with loss 50.818...\n"
     ]
    },
    {
     "name": "stderr",
     "output_type": "stream",
     "text": [
      "Epoch [3/300]: 100%|████████████████████████████████████████████████████████████████████████████████| 9/9 [00:00<00:00, 109.88it/s, loss=61.8]\n"
     ]
    },
    {
     "name": "stdout",
     "output_type": "stream",
     "text": [
      "Epoch [3/300]: Train loss: 48.5298, Valid loss: 39.1161\n",
      "Saving model with loss 39.116...\n"
     ]
    },
    {
     "name": "stderr",
     "output_type": "stream",
     "text": [
      "Epoch [4/300]: 100%|██████████████████████████████████████████████████████████████████████████████████| 9/9 [00:00<00:00, 108.81it/s, loss=42]\n"
     ]
    },
    {
     "name": "stdout",
     "output_type": "stream",
     "text": [
      "Epoch [4/300]: Train loss: 39.2690, Valid loss: 39.9758\n"
     ]
    },
    {
     "name": "stderr",
     "output_type": "stream",
     "text": [
      "Epoch [5/300]: 100%|████████████████████████████████████████████████████████████████████████████████| 9/9 [00:00<00:00, 103.40it/s, loss=37.6]\n"
     ]
    },
    {
     "name": "stdout",
     "output_type": "stream",
     "text": [
      "Epoch [5/300]: Train loss: 34.3680, Valid loss: 34.5855\n",
      "Saving model with loss 34.586...\n"
     ]
    },
    {
     "name": "stderr",
     "output_type": "stream",
     "text": [
      "Epoch [6/300]: 100%|████████████████████████████████████████████████████████████████████████████████| 9/9 [00:00<00:00, 103.36it/s, loss=35.4]\n"
     ]
    },
    {
     "name": "stdout",
     "output_type": "stream",
     "text": [
      "Epoch [6/300]: Train loss: 32.7020, Valid loss: 34.4897\n",
      "Saving model with loss 34.490...\n"
     ]
    },
    {
     "name": "stderr",
     "output_type": "stream",
     "text": [
      "Epoch [7/300]: 100%|████████████████████████████████████████████████████████████████████████████████| 9/9 [00:00<00:00, 104.38it/s, loss=30.4]\n"
     ]
    },
    {
     "name": "stdout",
     "output_type": "stream",
     "text": [
      "Epoch [7/300]: Train loss: 31.6557, Valid loss: 32.7823\n",
      "Saving model with loss 32.782...\n"
     ]
    },
    {
     "name": "stderr",
     "output_type": "stream",
     "text": [
      "Epoch [8/300]: 100%|████████████████████████████████████████████████████████████████████████████████| 9/9 [00:00<00:00, 108.18it/s, loss=31.8]\n"
     ]
    },
    {
     "name": "stdout",
     "output_type": "stream",
     "text": [
      "Epoch [8/300]: Train loss: 31.0152, Valid loss: 28.5507\n",
      "Saving model with loss 28.551...\n"
     ]
    },
    {
     "name": "stderr",
     "output_type": "stream",
     "text": [
      "Epoch [9/300]: 100%|████████████████████████████████████████████████████████████████████████████████| 9/9 [00:00<00:00, 121.45it/s, loss=28.6]\n"
     ]
    },
    {
     "name": "stdout",
     "output_type": "stream",
     "text": [
      "Epoch [9/300]: Train loss: 30.0828, Valid loss: 29.0465\n"
     ]
    },
    {
     "name": "stderr",
     "output_type": "stream",
     "text": [
      "Epoch [10/300]: 100%|█████████████████████████████████████████████████████████████████████████████████| 9/9 [00:00<00:00, 115.61it/s, loss=30]\n"
     ]
    },
    {
     "name": "stdout",
     "output_type": "stream",
     "text": [
      "Epoch [10/300]: Train loss: 29.1486, Valid loss: 29.9683\n"
     ]
    },
    {
     "name": "stderr",
     "output_type": "stream",
     "text": [
      "Epoch [11/300]: 100%|███████████████████████████████████████████████████████████████████████████████| 9/9 [00:00<00:00, 105.76it/s, loss=30.9]\n"
     ]
    },
    {
     "name": "stdout",
     "output_type": "stream",
     "text": [
      "Epoch [11/300]: Train loss: 27.2044, Valid loss: 34.4240\n"
     ]
    },
    {
     "name": "stderr",
     "output_type": "stream",
     "text": [
      "Epoch [12/300]: 100%|███████████████████████████████████████████████████████████████████████████████| 9/9 [00:00<00:00, 103.64it/s, loss=28.5]\n"
     ]
    },
    {
     "name": "stdout",
     "output_type": "stream",
     "text": [
      "Epoch [12/300]: Train loss: 30.4587, Valid loss: 30.5449\n"
     ]
    },
    {
     "name": "stderr",
     "output_type": "stream",
     "text": [
      "Epoch [13/300]: 100%|███████████████████████████████████████████████████████████████████████████████| 9/9 [00:00<00:00, 102.94it/s, loss=26.4]\n"
     ]
    },
    {
     "name": "stdout",
     "output_type": "stream",
     "text": [
      "Epoch [13/300]: Train loss: 28.8501, Valid loss: 38.8161\n"
     ]
    },
    {
     "name": "stderr",
     "output_type": "stream",
     "text": [
      "Epoch [14/300]: 100%|███████████████████████████████████████████████████████████████████████████████| 9/9 [00:00<00:00, 103.24it/s, loss=25.9]\n"
     ]
    },
    {
     "name": "stdout",
     "output_type": "stream",
     "text": [
      "Epoch [14/300]: Train loss: 30.4945, Valid loss: 23.6366\n",
      "Saving model with loss 23.637...\n"
     ]
    },
    {
     "name": "stderr",
     "output_type": "stream",
     "text": [
      "Epoch [15/300]: 100%|█████████████████████████████████████████████████████████████████████████████████| 9/9 [00:00<00:00, 105.49it/s, loss=20]\n"
     ]
    },
    {
     "name": "stdout",
     "output_type": "stream",
     "text": [
      "Epoch [15/300]: Train loss: 22.0876, Valid loss: 21.6634\n",
      "Saving model with loss 21.663...\n"
     ]
    },
    {
     "name": "stderr",
     "output_type": "stream",
     "text": [
      "Epoch [16/300]: 100%|███████████████████████████████████████████████████████████████████████████████| 9/9 [00:00<00:00, 105.67it/s, loss=27.3]\n"
     ]
    },
    {
     "name": "stdout",
     "output_type": "stream",
     "text": [
      "Epoch [16/300]: Train loss: 21.9709, Valid loss: 21.4198\n",
      "Saving model with loss 21.420...\n"
     ]
    },
    {
     "name": "stderr",
     "output_type": "stream",
     "text": [
      "Epoch [17/300]: 100%|███████████████████████████████████████████████████████████████████████████████| 9/9 [00:00<00:00, 105.75it/s, loss=18.6]\n"
     ]
    },
    {
     "name": "stdout",
     "output_type": "stream",
     "text": [
      "Epoch [17/300]: Train loss: 18.8819, Valid loss: 17.4512\n",
      "Saving model with loss 17.451...\n"
     ]
    },
    {
     "name": "stderr",
     "output_type": "stream",
     "text": [
      "Epoch [18/300]: 100%|███████████████████████████████████████████████████████████████████████████████| 9/9 [00:00<00:00, 106.28it/s, loss=16.5]\n"
     ]
    },
    {
     "name": "stdout",
     "output_type": "stream",
     "text": [
      "Epoch [18/300]: Train loss: 19.4506, Valid loss: 16.2925\n",
      "Saving model with loss 16.293...\n"
     ]
    },
    {
     "name": "stderr",
     "output_type": "stream",
     "text": [
      "Epoch [19/300]: 100%|███████████████████████████████████████████████████████████████████████████████| 9/9 [00:00<00:00, 106.32it/s, loss=18.7]\n"
     ]
    },
    {
     "name": "stdout",
     "output_type": "stream",
     "text": [
      "Epoch [19/300]: Train loss: 17.1158, Valid loss: 12.4209\n",
      "Saving model with loss 12.421...\n"
     ]
    },
    {
     "name": "stderr",
     "output_type": "stream",
     "text": [
      "Epoch [20/300]: 100%|███████████████████████████████████████████████████████████████████████████████| 9/9 [00:00<00:00, 104.25it/s, loss=16.1]\n"
     ]
    },
    {
     "name": "stdout",
     "output_type": "stream",
     "text": [
      "Epoch [20/300]: Train loss: 14.4299, Valid loss: 12.4149\n",
      "Saving model with loss 12.415...\n"
     ]
    },
    {
     "name": "stderr",
     "output_type": "stream",
     "text": [
      "Epoch [21/300]: 100%|███████████████████████████████████████████████████████████████████████████████| 9/9 [00:00<00:00, 103.88it/s, loss=11.5]\n"
     ]
    },
    {
     "name": "stdout",
     "output_type": "stream",
     "text": [
      "Epoch [21/300]: Train loss: 12.4321, Valid loss: 10.2076\n",
      "Saving model with loss 10.208...\n"
     ]
    },
    {
     "name": "stderr",
     "output_type": "stream",
     "text": [
      "Epoch [22/300]: 100%|███████████████████████████████████████████████████████████████████████████████| 9/9 [00:00<00:00, 104.29it/s, loss=8.66]\n"
     ]
    },
    {
     "name": "stdout",
     "output_type": "stream",
     "text": [
      "Epoch [22/300]: Train loss: 9.8818, Valid loss: 8.9808\n",
      "Saving model with loss 8.981...\n"
     ]
    },
    {
     "name": "stderr",
     "output_type": "stream",
     "text": [
      "Epoch [23/300]: 100%|████████████████████████████████████████████████████████████████████████████████| 9/9 [00:00<00:00, 106.63it/s, loss=9.7]\n"
     ]
    },
    {
     "name": "stdout",
     "output_type": "stream",
     "text": [
      "Epoch [23/300]: Train loss: 9.4191, Valid loss: 8.1923\n",
      "Saving model with loss 8.192...\n"
     ]
    },
    {
     "name": "stderr",
     "output_type": "stream",
     "text": [
      "Epoch [24/300]: 100%|███████████████████████████████████████████████████████████████████████████████| 9/9 [00:00<00:00, 104.19it/s, loss=5.93]\n"
     ]
    },
    {
     "name": "stdout",
     "output_type": "stream",
     "text": [
      "Epoch [24/300]: Train loss: 9.9771, Valid loss: 11.8175\n"
     ]
    },
    {
     "name": "stderr",
     "output_type": "stream",
     "text": [
      "Epoch [25/300]: 100%|███████████████████████████████████████████████████████████████████████████████| 9/9 [00:00<00:00, 104.57it/s, loss=11.6]\n"
     ]
    },
    {
     "name": "stdout",
     "output_type": "stream",
     "text": [
      "Epoch [25/300]: Train loss: 13.3673, Valid loss: 19.0391\n"
     ]
    },
    {
     "name": "stderr",
     "output_type": "stream",
     "text": [
      "Epoch [26/300]: 100%|███████████████████████████████████████████████████████████████████████████████| 9/9 [00:00<00:00, 102.92it/s, loss=34.6]\n"
     ]
    },
    {
     "name": "stdout",
     "output_type": "stream",
     "text": [
      "Epoch [26/300]: Train loss: 32.7092, Valid loss: 15.1700\n"
     ]
    },
    {
     "name": "stderr",
     "output_type": "stream",
     "text": [
      "Epoch [27/300]: 100%|█████████████████████████████████████████████████████████████████████████████████| 9/9 [00:00<00:00, 102.95it/s, loss=13]\n"
     ]
    },
    {
     "name": "stdout",
     "output_type": "stream",
     "text": [
      "Epoch [27/300]: Train loss: 22.4579, Valid loss: 29.9272\n"
     ]
    },
    {
     "name": "stderr",
     "output_type": "stream",
     "text": [
      "Epoch [28/300]: 100%|████████████████████████████████████████████████████████████████████████████████| 9/9 [00:00<00:00, 103.90it/s, loss=6.4]\n"
     ]
    },
    {
     "name": "stdout",
     "output_type": "stream",
     "text": [
      "Epoch [28/300]: Train loss: 16.2183, Valid loss: 22.6788\n"
     ]
    },
    {
     "name": "stderr",
     "output_type": "stream",
     "text": [
      "Epoch [29/300]: 100%|███████████████████████████████████████████████████████████████████████████████| 9/9 [00:00<00:00, 106.44it/s, loss=11.8]\n"
     ]
    },
    {
     "name": "stdout",
     "output_type": "stream",
     "text": [
      "Epoch [29/300]: Train loss: 14.4286, Valid loss: 12.4755\n"
     ]
    },
    {
     "name": "stderr",
     "output_type": "stream",
     "text": [
      "Epoch [30/300]: 100%|███████████████████████████████████████████████████████████████████████████████| 9/9 [00:00<00:00, 102.45it/s, loss=13.8]\n"
     ]
    },
    {
     "name": "stdout",
     "output_type": "stream",
     "text": [
      "Epoch [30/300]: Train loss: 13.7821, Valid loss: 13.0410\n"
     ]
    },
    {
     "name": "stderr",
     "output_type": "stream",
     "text": [
      "Epoch [31/300]: 100%|███████████████████████████████████████████████████████████████████████████████| 9/9 [00:00<00:00, 102.16it/s, loss=7.37]\n"
     ]
    },
    {
     "name": "stdout",
     "output_type": "stream",
     "text": [
      "Epoch [31/300]: Train loss: 10.1837, Valid loss: 9.6008\n"
     ]
    },
    {
     "name": "stderr",
     "output_type": "stream",
     "text": [
      "Epoch [32/300]: 100%|████████████████████████████████████████████████████████████████████████████████| 9/9 [00:00<00:00, 97.18it/s, loss=8.82]\n"
     ]
    },
    {
     "name": "stdout",
     "output_type": "stream",
     "text": [
      "Epoch [32/300]: Train loss: 9.4364, Valid loss: 19.8165\n"
     ]
    },
    {
     "name": "stderr",
     "output_type": "stream",
     "text": [
      "Epoch [33/300]: 100%|████████████████████████████████████████████████████████████████████████████████| 9/9 [00:00<00:00, 98.76it/s, loss=7.13]\n"
     ]
    },
    {
     "name": "stdout",
     "output_type": "stream",
     "text": [
      "Epoch [33/300]: Train loss: 11.2502, Valid loss: 13.7365\n"
     ]
    },
    {
     "name": "stderr",
     "output_type": "stream",
     "text": [
      "Epoch [34/300]: 100%|███████████████████████████████████████████████████████████████████████████████| 9/9 [00:00<00:00, 101.98it/s, loss=6.35]\n"
     ]
    },
    {
     "name": "stdout",
     "output_type": "stream",
     "text": [
      "Epoch [34/300]: Train loss: 7.8578, Valid loss: 5.7448\n",
      "Saving model with loss 5.745...\n"
     ]
    },
    {
     "name": "stderr",
     "output_type": "stream",
     "text": [
      "Epoch [35/300]: 100%|███████████████████████████████████████████████████████████████████████████████| 9/9 [00:00<00:00, 102.81it/s, loss=5.84]\n"
     ]
    },
    {
     "name": "stdout",
     "output_type": "stream",
     "text": [
      "Epoch [35/300]: Train loss: 6.4148, Valid loss: 7.3157\n"
     ]
    },
    {
     "name": "stderr",
     "output_type": "stream",
     "text": [
      "Epoch [36/300]: 100%|████████████████████████████████████████████████████████████████████████████████| 9/9 [00:00<00:00, 95.45it/s, loss=5.92]\n"
     ]
    },
    {
     "name": "stdout",
     "output_type": "stream",
     "text": [
      "Epoch [36/300]: Train loss: 7.9502, Valid loss: 6.1523\n"
     ]
    },
    {
     "name": "stderr",
     "output_type": "stream",
     "text": [
      "Epoch [37/300]: 100%|████████████████████████████████████████████████████████████████████████████████| 9/9 [00:00<00:00, 94.34it/s, loss=5.69]\n"
     ]
    },
    {
     "name": "stdout",
     "output_type": "stream",
     "text": [
      "Epoch [37/300]: Train loss: 7.2399, Valid loss: 6.3667\n"
     ]
    },
    {
     "name": "stderr",
     "output_type": "stream",
     "text": [
      "Epoch [38/300]: 100%|█████████████████████████████████████████████████████████████████████████████████| 9/9 [00:00<00:00, 98.94it/s, loss=5.5]\n"
     ]
    },
    {
     "name": "stdout",
     "output_type": "stream",
     "text": [
      "Epoch [38/300]: Train loss: 5.5098, Valid loss: 6.2126\n"
     ]
    },
    {
     "name": "stderr",
     "output_type": "stream",
     "text": [
      "Epoch [39/300]: 100%|████████████████████████████████████████████████████████████████████████████████| 9/9 [00:00<00:00, 99.55it/s, loss=25.1]\n"
     ]
    },
    {
     "name": "stdout",
     "output_type": "stream",
     "text": [
      "Epoch [39/300]: Train loss: 8.4548, Valid loss: 7.5239\n"
     ]
    },
    {
     "name": "stderr",
     "output_type": "stream",
     "text": [
      "Epoch [40/300]: 100%|████████████████████████████████████████████████████████████████████████████████| 9/9 [00:00<00:00, 98.82it/s, loss=10.6]\n"
     ]
    },
    {
     "name": "stdout",
     "output_type": "stream",
     "text": [
      "Epoch [40/300]: Train loss: 9.3585, Valid loss: 6.5031\n"
     ]
    },
    {
     "name": "stderr",
     "output_type": "stream",
     "text": [
      "Epoch [41/300]: 100%|████████████████████████████████████████████████████████████████████████████████| 9/9 [00:00<00:00, 99.13it/s, loss=4.38]\n"
     ]
    },
    {
     "name": "stdout",
     "output_type": "stream",
     "text": [
      "Epoch [41/300]: Train loss: 5.8310, Valid loss: 5.4234\n",
      "Saving model with loss 5.423...\n"
     ]
    },
    {
     "name": "stderr",
     "output_type": "stream",
     "text": [
      "Epoch [42/300]: 100%|███████████████████████████████████████████████████████████████████████████████| 9/9 [00:00<00:00, 101.10it/s, loss=7.51]\n"
     ]
    },
    {
     "name": "stdout",
     "output_type": "stream",
     "text": [
      "Epoch [42/300]: Train loss: 6.0954, Valid loss: 9.3872\n"
     ]
    },
    {
     "name": "stderr",
     "output_type": "stream",
     "text": [
      "Epoch [43/300]: 100%|███████████████████████████████████████████████████████████████████████████████| 9/9 [00:00<00:00, 101.45it/s, loss=7.46]\n"
     ]
    },
    {
     "name": "stdout",
     "output_type": "stream",
     "text": [
      "Epoch [43/300]: Train loss: 6.6605, Valid loss: 5.9220\n"
     ]
    },
    {
     "name": "stderr",
     "output_type": "stream",
     "text": [
      "Epoch [44/300]: 100%|███████████████████████████████████████████████████████████████████████████████| 9/9 [00:00<00:00, 102.09it/s, loss=8.11]\n"
     ]
    },
    {
     "name": "stdout",
     "output_type": "stream",
     "text": [
      "Epoch [44/300]: Train loss: 7.1440, Valid loss: 6.6564\n"
     ]
    },
    {
     "name": "stderr",
     "output_type": "stream",
     "text": [
      "Epoch [45/300]: 100%|███████████████████████████████████████████████████████████████████████████████| 9/9 [00:00<00:00, 103.40it/s, loss=12.7]\n"
     ]
    },
    {
     "name": "stdout",
     "output_type": "stream",
     "text": [
      "Epoch [45/300]: Train loss: 8.9440, Valid loss: 9.7211\n"
     ]
    },
    {
     "name": "stderr",
     "output_type": "stream",
     "text": [
      "Epoch [46/300]: 100%|████████████████████████████████████████████████████████████████████████████████| 9/9 [00:00<00:00, 32.38it/s, loss=13.2]\n"
     ]
    },
    {
     "name": "stdout",
     "output_type": "stream",
     "text": [
      "Epoch [46/300]: Train loss: 13.5693, Valid loss: 19.6226\n"
     ]
    },
    {
     "name": "stderr",
     "output_type": "stream",
     "text": [
      "Epoch [47/300]: 100%|███████████████████████████████████████████████████████████████████████████████| 9/9 [00:00<00:00, 115.73it/s, loss=10.5]\n"
     ]
    },
    {
     "name": "stdout",
     "output_type": "stream",
     "text": [
      "Epoch [47/300]: Train loss: 10.1265, Valid loss: 7.2548\n"
     ]
    },
    {
     "name": "stderr",
     "output_type": "stream",
     "text": [
      "Epoch [48/300]: 100%|███████████████████████████████████████████████████████████████████████████████| 9/9 [00:00<00:00, 108.69it/s, loss=10.7]\n"
     ]
    },
    {
     "name": "stdout",
     "output_type": "stream",
     "text": [
      "Epoch [48/300]: Train loss: 7.8051, Valid loss: 10.3477\n"
     ]
    },
    {
     "name": "stderr",
     "output_type": "stream",
     "text": [
      "Epoch [49/300]: 100%|███████████████████████████████████████████████████████████████████████████████| 9/9 [00:00<00:00, 104.97it/s, loss=23.1]\n"
     ]
    },
    {
     "name": "stdout",
     "output_type": "stream",
     "text": [
      "Epoch [49/300]: Train loss: 9.9152, Valid loss: 12.1294\n"
     ]
    },
    {
     "name": "stderr",
     "output_type": "stream",
     "text": [
      "Epoch [50/300]: 100%|███████████████████████████████████████████████████████████████████████████████| 9/9 [00:00<00:00, 103.23it/s, loss=13.9]\n"
     ]
    },
    {
     "name": "stdout",
     "output_type": "stream",
     "text": [
      "Epoch [50/300]: Train loss: 11.6409, Valid loss: 7.4647\n"
     ]
    },
    {
     "name": "stderr",
     "output_type": "stream",
     "text": [
      "Epoch [51/300]: 100%|███████████████████████████████████████████████████████████████████████████████| 9/9 [00:00<00:00, 102.66it/s, loss=12.9]\n"
     ]
    },
    {
     "name": "stdout",
     "output_type": "stream",
     "text": [
      "Epoch [51/300]: Train loss: 9.4106, Valid loss: 8.8174\n"
     ]
    },
    {
     "name": "stderr",
     "output_type": "stream",
     "text": [
      "Epoch [52/300]: 100%|███████████████████████████████████████████████████████████████████████████████| 9/9 [00:00<00:00, 103.94it/s, loss=8.88]\n"
     ]
    },
    {
     "name": "stdout",
     "output_type": "stream",
     "text": [
      "Epoch [52/300]: Train loss: 8.3293, Valid loss: 7.5809\n"
     ]
    },
    {
     "name": "stderr",
     "output_type": "stream",
     "text": [
      "Epoch [53/300]: 100%|███████████████████████████████████████████████████████████████████████████████| 9/9 [00:00<00:00, 103.86it/s, loss=10.3]\n"
     ]
    },
    {
     "name": "stdout",
     "output_type": "stream",
     "text": [
      "Epoch [53/300]: Train loss: 7.0639, Valid loss: 5.5669\n"
     ]
    },
    {
     "name": "stderr",
     "output_type": "stream",
     "text": [
      "Epoch [54/300]: 100%|███████████████████████████████████████████████████████████████████████████████| 9/9 [00:00<00:00, 107.07it/s, loss=5.21]\n"
     ]
    },
    {
     "name": "stdout",
     "output_type": "stream",
     "text": [
      "Epoch [54/300]: Train loss: 6.0011, Valid loss: 6.8037\n"
     ]
    },
    {
     "name": "stderr",
     "output_type": "stream",
     "text": [
      "Epoch [55/300]: 100%|███████████████████████████████████████████████████████████████████████████████| 9/9 [00:00<00:00, 132.43it/s, loss=5.43]\n"
     ]
    },
    {
     "name": "stdout",
     "output_type": "stream",
     "text": [
      "Epoch [55/300]: Train loss: 6.8302, Valid loss: 9.8760\n"
     ]
    },
    {
     "name": "stderr",
     "output_type": "stream",
     "text": [
      "Epoch [56/300]: 100%|███████████████████████████████████████████████████████████████████████████████| 9/9 [00:00<00:00, 120.18it/s, loss=5.81]\n"
     ]
    },
    {
     "name": "stdout",
     "output_type": "stream",
     "text": [
      "Epoch [56/300]: Train loss: 7.7777, Valid loss: 6.1837\n"
     ]
    },
    {
     "name": "stderr",
     "output_type": "stream",
     "text": [
      "Epoch [57/300]: 100%|███████████████████████████████████████████████████████████████████████████████| 9/9 [00:00<00:00, 111.08it/s, loss=5.19]\n"
     ]
    },
    {
     "name": "stdout",
     "output_type": "stream",
     "text": [
      "Epoch [57/300]: Train loss: 5.9975, Valid loss: 4.9102\n",
      "Saving model with loss 4.910...\n"
     ]
    },
    {
     "name": "stderr",
     "output_type": "stream",
     "text": [
      "Epoch [58/300]: 100%|███████████████████████████████████████████████████████████████████████████████| 9/9 [00:00<00:00, 107.31it/s, loss=5.93]\n"
     ]
    },
    {
     "name": "stdout",
     "output_type": "stream",
     "text": [
      "Epoch [58/300]: Train loss: 5.2011, Valid loss: 6.0956\n"
     ]
    },
    {
     "name": "stderr",
     "output_type": "stream",
     "text": [
      "Epoch [59/300]: 100%|███████████████████████████████████████████████████████████████████████████████| 9/9 [00:00<00:00, 105.06it/s, loss=4.42]\n"
     ]
    },
    {
     "name": "stdout",
     "output_type": "stream",
     "text": [
      "Epoch [59/300]: Train loss: 5.2484, Valid loss: 5.7372\n"
     ]
    },
    {
     "name": "stderr",
     "output_type": "stream",
     "text": [
      "Epoch [60/300]: 100%|███████████████████████████████████████████████████████████████████████████████| 9/9 [00:00<00:00, 102.41it/s, loss=3.91]\n"
     ]
    },
    {
     "name": "stdout",
     "output_type": "stream",
     "text": [
      "Epoch [60/300]: Train loss: 5.1561, Valid loss: 5.1520\n"
     ]
    },
    {
     "name": "stderr",
     "output_type": "stream",
     "text": [
      "Epoch [61/300]: 100%|███████████████████████████████████████████████████████████████████████████████| 9/9 [00:00<00:00, 104.62it/s, loss=5.57]\n"
     ]
    },
    {
     "name": "stdout",
     "output_type": "stream",
     "text": [
      "Epoch [61/300]: Train loss: 5.3164, Valid loss: 4.7939\n",
      "Saving model with loss 4.794...\n"
     ]
    },
    {
     "name": "stderr",
     "output_type": "stream",
     "text": [
      "Epoch [62/300]: 100%|████████████████████████████████████████████████████████████████████████████████| 9/9 [00:00<00:00, 104.66it/s, loss=5.5]\n"
     ]
    },
    {
     "name": "stdout",
     "output_type": "stream",
     "text": [
      "Epoch [62/300]: Train loss: 5.8489, Valid loss: 11.2094\n"
     ]
    },
    {
     "name": "stderr",
     "output_type": "stream",
     "text": [
      "Epoch [63/300]: 100%|███████████████████████████████████████████████████████████████████████████████| 9/9 [00:00<00:00, 103.31it/s, loss=10.7]\n"
     ]
    },
    {
     "name": "stdout",
     "output_type": "stream",
     "text": [
      "Epoch [63/300]: Train loss: 8.6015, Valid loss: 5.5285\n"
     ]
    },
    {
     "name": "stderr",
     "output_type": "stream",
     "text": [
      "Epoch [64/300]: 100%|███████████████████████████████████████████████████████████████████████████████| 9/9 [00:00<00:00, 104.30it/s, loss=12.6]\n"
     ]
    },
    {
     "name": "stdout",
     "output_type": "stream",
     "text": [
      "Epoch [64/300]: Train loss: 8.5710, Valid loss: 6.3550\n"
     ]
    },
    {
     "name": "stderr",
     "output_type": "stream",
     "text": [
      "Epoch [65/300]: 100%|███████████████████████████████████████████████████████████████████████████████| 9/9 [00:00<00:00, 102.27it/s, loss=10.4]\n"
     ]
    },
    {
     "name": "stdout",
     "output_type": "stream",
     "text": [
      "Epoch [65/300]: Train loss: 11.8275, Valid loss: 15.5856\n"
     ]
    },
    {
     "name": "stderr",
     "output_type": "stream",
     "text": [
      "Epoch [66/300]: 100%|███████████████████████████████████████████████████████████████████████████████| 9/9 [00:00<00:00, 102.86it/s, loss=5.47]\n"
     ]
    },
    {
     "name": "stdout",
     "output_type": "stream",
     "text": [
      "Epoch [66/300]: Train loss: 8.0860, Valid loss: 6.9160\n"
     ]
    },
    {
     "name": "stderr",
     "output_type": "stream",
     "text": [
      "Epoch [67/300]: 100%|███████████████████████████████████████████████████████████████████████████████| 9/9 [00:00<00:00, 102.98it/s, loss=6.16]\n"
     ]
    },
    {
     "name": "stdout",
     "output_type": "stream",
     "text": [
      "Epoch [67/300]: Train loss: 5.3096, Valid loss: 5.2413\n"
     ]
    },
    {
     "name": "stderr",
     "output_type": "stream",
     "text": [
      "Epoch [68/300]: 100%|███████████████████████████████████████████████████████████████████████████████| 9/9 [00:00<00:00, 104.60it/s, loss=6.37]\n"
     ]
    },
    {
     "name": "stdout",
     "output_type": "stream",
     "text": [
      "Epoch [68/300]: Train loss: 5.3827, Valid loss: 8.0419\n"
     ]
    },
    {
     "name": "stderr",
     "output_type": "stream",
     "text": [
      "Epoch [69/300]: 100%|███████████████████████████████████████████████████████████████████████████████| 9/9 [00:00<00:00, 103.77it/s, loss=6.15]\n"
     ]
    },
    {
     "name": "stdout",
     "output_type": "stream",
     "text": [
      "Epoch [69/300]: Train loss: 5.6698, Valid loss: 5.1496\n"
     ]
    },
    {
     "name": "stderr",
     "output_type": "stream",
     "text": [
      "Epoch [70/300]: 100%|███████████████████████████████████████████████████████████████████████████████| 9/9 [00:00<00:00, 105.06it/s, loss=4.67]\n"
     ]
    },
    {
     "name": "stdout",
     "output_type": "stream",
     "text": [
      "Epoch [70/300]: Train loss: 5.5541, Valid loss: 4.3568\n",
      "Saving model with loss 4.357...\n"
     ]
    },
    {
     "name": "stderr",
     "output_type": "stream",
     "text": [
      "Epoch [71/300]: 100%|████████████████████████████████████████████████████████████████████████████████| 9/9 [00:00<00:00, 101.50it/s, loss=6.6]\n"
     ]
    },
    {
     "name": "stdout",
     "output_type": "stream",
     "text": [
      "Epoch [71/300]: Train loss: 5.2676, Valid loss: 4.5975\n"
     ]
    },
    {
     "name": "stderr",
     "output_type": "stream",
     "text": [
      "Epoch [72/300]: 100%|███████████████████████████████████████████████████████████████████████████████| 9/9 [00:00<00:00, 103.68it/s, loss=5.13]\n"
     ]
    },
    {
     "name": "stdout",
     "output_type": "stream",
     "text": [
      "Epoch [72/300]: Train loss: 4.9372, Valid loss: 5.2128\n"
     ]
    },
    {
     "name": "stderr",
     "output_type": "stream",
     "text": [
      "Epoch [73/300]: 100%|████████████████████████████████████████████████████████████████████████████████| 9/9 [00:00<00:00, 99.14it/s, loss=7.58]\n"
     ]
    },
    {
     "name": "stdout",
     "output_type": "stream",
     "text": [
      "Epoch [73/300]: Train loss: 5.2314, Valid loss: 4.9753\n"
     ]
    },
    {
     "name": "stderr",
     "output_type": "stream",
     "text": [
      "Epoch [74/300]: 100%|████████████████████████████████████████████████████████████████████████████████| 9/9 [00:00<00:00, 102.66it/s, loss=4.6]\n"
     ]
    },
    {
     "name": "stdout",
     "output_type": "stream",
     "text": [
      "Epoch [74/300]: Train loss: 5.1481, Valid loss: 4.4462\n"
     ]
    },
    {
     "name": "stderr",
     "output_type": "stream",
     "text": [
      "Epoch [75/300]: 100%|███████████████████████████████████████████████████████████████████████████████| 9/9 [00:00<00:00, 103.86it/s, loss=4.43]\n"
     ]
    },
    {
     "name": "stdout",
     "output_type": "stream",
     "text": [
      "Epoch [75/300]: Train loss: 5.0202, Valid loss: 4.2532\n",
      "Saving model with loss 4.253...\n"
     ]
    },
    {
     "name": "stderr",
     "output_type": "stream",
     "text": [
      "Epoch [76/300]: 100%|███████████████████████████████████████████████████████████████████████████████| 9/9 [00:00<00:00, 103.41it/s, loss=3.93]\n"
     ]
    },
    {
     "name": "stdout",
     "output_type": "stream",
     "text": [
      "Epoch [76/300]: Train loss: 4.9807, Valid loss: 4.7260\n"
     ]
    },
    {
     "name": "stderr",
     "output_type": "stream",
     "text": [
      "Epoch [77/300]: 100%|███████████████████████████████████████████████████████████████████████████████| 9/9 [00:00<00:00, 104.14it/s, loss=4.92]\n"
     ]
    },
    {
     "name": "stdout",
     "output_type": "stream",
     "text": [
      "Epoch [77/300]: Train loss: 5.1882, Valid loss: 5.8979\n"
     ]
    },
    {
     "name": "stderr",
     "output_type": "stream",
     "text": [
      "Epoch [78/300]: 100%|███████████████████████████████████████████████████████████████████████████████| 9/9 [00:00<00:00, 102.13it/s, loss=6.68]\n"
     ]
    },
    {
     "name": "stdout",
     "output_type": "stream",
     "text": [
      "Epoch [78/300]: Train loss: 5.9966, Valid loss: 5.1549\n"
     ]
    },
    {
     "name": "stderr",
     "output_type": "stream",
     "text": [
      "Epoch [79/300]: 100%|███████████████████████████████████████████████████████████████████████████████| 9/9 [00:00<00:00, 102.48it/s, loss=5.95]\n"
     ]
    },
    {
     "name": "stdout",
     "output_type": "stream",
     "text": [
      "Epoch [79/300]: Train loss: 5.6345, Valid loss: 10.6354\n"
     ]
    },
    {
     "name": "stderr",
     "output_type": "stream",
     "text": [
      "Epoch [80/300]: 100%|███████████████████████████████████████████████████████████████████████████████| 9/9 [00:00<00:00, 104.26it/s, loss=7.14]\n"
     ]
    },
    {
     "name": "stdout",
     "output_type": "stream",
     "text": [
      "Epoch [80/300]: Train loss: 8.2357, Valid loss: 5.8377\n"
     ]
    },
    {
     "name": "stderr",
     "output_type": "stream",
     "text": [
      "Epoch [81/300]: 100%|██████████████████████████████████████████████████████████████████████████████████| 9/9 [00:00<00:00, 104.53it/s, loss=6]\n"
     ]
    },
    {
     "name": "stdout",
     "output_type": "stream",
     "text": [
      "Epoch [81/300]: Train loss: 5.3698, Valid loss: 6.0192\n"
     ]
    },
    {
     "name": "stderr",
     "output_type": "stream",
     "text": [
      "Epoch [82/300]: 100%|███████████████████████████████████████████████████████████████████████████████| 9/9 [00:00<00:00, 103.39it/s, loss=7.15]\n"
     ]
    },
    {
     "name": "stdout",
     "output_type": "stream",
     "text": [
      "Epoch [82/300]: Train loss: 5.3899, Valid loss: 4.7079\n"
     ]
    },
    {
     "name": "stderr",
     "output_type": "stream",
     "text": [
      "Epoch [83/300]: 100%|████████████████████████████████████████████████████████████████████████████████| 9/9 [00:00<00:00, 98.32it/s, loss=4.62]\n"
     ]
    },
    {
     "name": "stdout",
     "output_type": "stream",
     "text": [
      "Epoch [83/300]: Train loss: 4.8514, Valid loss: 5.7808\n"
     ]
    },
    {
     "name": "stderr",
     "output_type": "stream",
     "text": [
      "Epoch [84/300]: 100%|████████████████████████████████████████████████████████████████████████████████| 9/9 [00:00<00:00, 98.47it/s, loss=6.15]\n"
     ]
    },
    {
     "name": "stdout",
     "output_type": "stream",
     "text": [
      "Epoch [84/300]: Train loss: 5.3022, Valid loss: 5.1190\n"
     ]
    },
    {
     "name": "stderr",
     "output_type": "stream",
     "text": [
      "Epoch [85/300]: 100%|████████████████████████████████████████████████████████████████████████████████| 9/9 [00:00<00:00, 99.67it/s, loss=5.33]\n"
     ]
    },
    {
     "name": "stdout",
     "output_type": "stream",
     "text": [
      "Epoch [85/300]: Train loss: 4.8218, Valid loss: 4.7141\n"
     ]
    },
    {
     "name": "stderr",
     "output_type": "stream",
     "text": [
      "Epoch [86/300]: 100%|█████████████████████████████████████████████████████████████████████████████████| 9/9 [00:00<00:00, 99.97it/s, loss=5.4]\n"
     ]
    },
    {
     "name": "stdout",
     "output_type": "stream",
     "text": [
      "Epoch [86/300]: Train loss: 4.9293, Valid loss: 5.2960\n"
     ]
    },
    {
     "name": "stderr",
     "output_type": "stream",
     "text": [
      "Epoch [87/300]: 100%|████████████████████████████████████████████████████████████████████████████████| 9/9 [00:00<00:00, 99.46it/s, loss=8.17]\n"
     ]
    },
    {
     "name": "stdout",
     "output_type": "stream",
     "text": [
      "Epoch [87/300]: Train loss: 5.5298, Valid loss: 7.0924\n"
     ]
    },
    {
     "name": "stderr",
     "output_type": "stream",
     "text": [
      "Epoch [88/300]: 100%|███████████████████████████████████████████████████████████████████████████████| 9/9 [00:00<00:00, 103.20it/s, loss=5.97]\n"
     ]
    },
    {
     "name": "stdout",
     "output_type": "stream",
     "text": [
      "Epoch [88/300]: Train loss: 5.7794, Valid loss: 5.1441\n"
     ]
    },
    {
     "name": "stderr",
     "output_type": "stream",
     "text": [
      "Epoch [89/300]: 100%|███████████████████████████████████████████████████████████████████████████████| 9/9 [00:00<00:00, 100.69it/s, loss=4.94]\n"
     ]
    },
    {
     "name": "stdout",
     "output_type": "stream",
     "text": [
      "Epoch [89/300]: Train loss: 4.8899, Valid loss: 5.0177\n"
     ]
    },
    {
     "name": "stderr",
     "output_type": "stream",
     "text": [
      "Epoch [90/300]: 100%|███████████████████████████████████████████████████████████████████████████████| 9/9 [00:00<00:00, 104.11it/s, loss=4.71]\n"
     ]
    },
    {
     "name": "stdout",
     "output_type": "stream",
     "text": [
      "Epoch [90/300]: Train loss: 4.8147, Valid loss: 4.7060\n"
     ]
    },
    {
     "name": "stderr",
     "output_type": "stream",
     "text": [
      "Epoch [91/300]: 100%|████████████████████████████████████████████████████████████████████████████████| 9/9 [00:00<00:00, 102.05it/s, loss=5.7]\n"
     ]
    },
    {
     "name": "stdout",
     "output_type": "stream",
     "text": [
      "Epoch [91/300]: Train loss: 5.1864, Valid loss: 5.0934\n"
     ]
    },
    {
     "name": "stderr",
     "output_type": "stream",
     "text": [
      "Epoch [92/300]: 100%|███████████████████████████████████████████████████████████████████████████████| 9/9 [00:00<00:00, 103.68it/s, loss=4.97]\n"
     ]
    },
    {
     "name": "stdout",
     "output_type": "stream",
     "text": [
      "Epoch [92/300]: Train loss: 5.4602, Valid loss: 6.0092\n"
     ]
    },
    {
     "name": "stderr",
     "output_type": "stream",
     "text": [
      "Epoch [93/300]: 100%|███████████████████████████████████████████████████████████████████████████████| 9/9 [00:00<00:00, 103.36it/s, loss=5.16]\n"
     ]
    },
    {
     "name": "stdout",
     "output_type": "stream",
     "text": [
      "Epoch [93/300]: Train loss: 4.9803, Valid loss: 4.3713\n"
     ]
    },
    {
     "name": "stderr",
     "output_type": "stream",
     "text": [
      "Epoch [94/300]: 100%|███████████████████████████████████████████████████████████████████████████████| 9/9 [00:00<00:00, 103.03it/s, loss=8.02]\n"
     ]
    },
    {
     "name": "stdout",
     "output_type": "stream",
     "text": [
      "Epoch [94/300]: Train loss: 5.9033, Valid loss: 6.0448\n"
     ]
    },
    {
     "name": "stderr",
     "output_type": "stream",
     "text": [
      "Epoch [95/300]: 100%|███████████████████████████████████████████████████████████████████████████████| 9/9 [00:00<00:00, 102.95it/s, loss=6.25]\n"
     ]
    },
    {
     "name": "stdout",
     "output_type": "stream",
     "text": [
      "Epoch [95/300]: Train loss: 5.6527, Valid loss: 9.3577\n"
     ]
    },
    {
     "name": "stderr",
     "output_type": "stream",
     "text": [
      "Epoch [96/300]: 100%|███████████████████████████████████████████████████████████████████████████████| 9/9 [00:00<00:00, 103.77it/s, loss=4.51]\n"
     ]
    },
    {
     "name": "stdout",
     "output_type": "stream",
     "text": [
      "Epoch [96/300]: Train loss: 7.0109, Valid loss: 7.1482\n"
     ]
    },
    {
     "name": "stderr",
     "output_type": "stream",
     "text": [
      "Epoch [97/300]: 100%|███████████████████████████████████████████████████████████████████████████████| 9/9 [00:00<00:00, 103.87it/s, loss=7.92]\n"
     ]
    },
    {
     "name": "stdout",
     "output_type": "stream",
     "text": [
      "Epoch [97/300]: Train loss: 6.5563, Valid loss: 4.6393\n"
     ]
    },
    {
     "name": "stderr",
     "output_type": "stream",
     "text": [
      "Epoch [98/300]: 100%|███████████████████████████████████████████████████████████████████████████████| 9/9 [00:00<00:00, 103.85it/s, loss=4.67]\n"
     ]
    },
    {
     "name": "stdout",
     "output_type": "stream",
     "text": [
      "Epoch [98/300]: Train loss: 5.9759, Valid loss: 6.0766\n"
     ]
    },
    {
     "name": "stderr",
     "output_type": "stream",
     "text": [
      "Epoch [99/300]: 100%|███████████████████████████████████████████████████████████████████████████████| 9/9 [00:00<00:00, 104.81it/s, loss=5.65]\n"
     ]
    },
    {
     "name": "stdout",
     "output_type": "stream",
     "text": [
      "Epoch [99/300]: Train loss: 4.9459, Valid loss: 4.3659\n"
     ]
    },
    {
     "name": "stderr",
     "output_type": "stream",
     "text": [
      "Epoch [100/300]: 100%|██████████████████████████████████████████████████████████████████████████████| 9/9 [00:00<00:00, 105.07it/s, loss=4.74]\n"
     ]
    },
    {
     "name": "stdout",
     "output_type": "stream",
     "text": [
      "Epoch [100/300]: Train loss: 4.5359, Valid loss: 4.3762\n"
     ]
    },
    {
     "name": "stderr",
     "output_type": "stream",
     "text": [
      "Epoch [101/300]: 100%|██████████████████████████████████████████████████████████████████████████████| 9/9 [00:00<00:00, 102.28it/s, loss=4.82]\n"
     ]
    },
    {
     "name": "stdout",
     "output_type": "stream",
     "text": [
      "Epoch [101/300]: Train loss: 4.5946, Valid loss: 5.2519\n"
     ]
    },
    {
     "name": "stderr",
     "output_type": "stream",
     "text": [
      "Epoch [102/300]: 100%|██████████████████████████████████████████████████████████████████████████████| 9/9 [00:00<00:00, 103.97it/s, loss=4.53]\n"
     ]
    },
    {
     "name": "stdout",
     "output_type": "stream",
     "text": [
      "Epoch [102/300]: Train loss: 4.5724, Valid loss: 5.3828\n"
     ]
    },
    {
     "name": "stderr",
     "output_type": "stream",
     "text": [
      "Epoch [103/300]: 100%|██████████████████████████████████████████████████████████████████████████████| 9/9 [00:00<00:00, 115.51it/s, loss=6.18]\n"
     ]
    },
    {
     "name": "stdout",
     "output_type": "stream",
     "text": [
      "Epoch [103/300]: Train loss: 4.7899, Valid loss: 5.1454\n"
     ]
    },
    {
     "name": "stderr",
     "output_type": "stream",
     "text": [
      "Epoch [104/300]: 100%|██████████████████████████████████████████████████████████████████████████████| 9/9 [00:00<00:00, 130.91it/s, loss=8.82]\n"
     ]
    },
    {
     "name": "stdout",
     "output_type": "stream",
     "text": [
      "Epoch [104/300]: Train loss: 6.3280, Valid loss: 4.6765\n"
     ]
    },
    {
     "name": "stderr",
     "output_type": "stream",
     "text": [
      "Epoch [105/300]: 100%|██████████████████████████████████████████████████████████████████████████████| 9/9 [00:00<00:00, 120.01it/s, loss=6.34]\n"
     ]
    },
    {
     "name": "stdout",
     "output_type": "stream",
     "text": [
      "Epoch [105/300]: Train loss: 6.1608, Valid loss: 5.2112\n"
     ]
    },
    {
     "name": "stderr",
     "output_type": "stream",
     "text": [
      "Epoch [106/300]: 100%|██████████████████████████████████████████████████████████████████████████████| 9/9 [00:00<00:00, 109.82it/s, loss=4.92]\n"
     ]
    },
    {
     "name": "stdout",
     "output_type": "stream",
     "text": [
      "Epoch [106/300]: Train loss: 5.5019, Valid loss: 4.3985\n"
     ]
    },
    {
     "name": "stderr",
     "output_type": "stream",
     "text": [
      "Epoch [107/300]: 100%|██████████████████████████████████████████████████████████████████████████████| 9/9 [00:00<00:00, 105.42it/s, loss=6.38]\n"
     ]
    },
    {
     "name": "stdout",
     "output_type": "stream",
     "text": [
      "Epoch [107/300]: Train loss: 4.9078, Valid loss: 7.5370\n"
     ]
    },
    {
     "name": "stderr",
     "output_type": "stream",
     "text": [
      "Epoch [108/300]: 100%|██████████████████████████████████████████████████████████████████████████████| 9/9 [00:00<00:00, 104.83it/s, loss=5.65]\n"
     ]
    },
    {
     "name": "stdout",
     "output_type": "stream",
     "text": [
      "Epoch [108/300]: Train loss: 6.1085, Valid loss: 6.6586\n"
     ]
    },
    {
     "name": "stderr",
     "output_type": "stream",
     "text": [
      "Epoch [109/300]: 100%|██████████████████████████████████████████████████████████████████████████████| 9/9 [00:00<00:00, 102.09it/s, loss=3.39]\n"
     ]
    },
    {
     "name": "stdout",
     "output_type": "stream",
     "text": [
      "Epoch [109/300]: Train loss: 4.9112, Valid loss: 4.9102\n"
     ]
    },
    {
     "name": "stderr",
     "output_type": "stream",
     "text": [
      "Epoch [110/300]: 100%|██████████████████████████████████████████████████████████████████████████████| 9/9 [00:00<00:00, 102.38it/s, loss=6.67]\n"
     ]
    },
    {
     "name": "stdout",
     "output_type": "stream",
     "text": [
      "Epoch [110/300]: Train loss: 5.0257, Valid loss: 10.6365\n"
     ]
    },
    {
     "name": "stderr",
     "output_type": "stream",
     "text": [
      "Epoch [111/300]: 100%|██████████████████████████████████████████████████████████████████████████████| 9/9 [00:00<00:00, 103.08it/s, loss=5.74]\n"
     ]
    },
    {
     "name": "stdout",
     "output_type": "stream",
     "text": [
      "Epoch [111/300]: Train loss: 8.6320, Valid loss: 8.0122\n"
     ]
    },
    {
     "name": "stderr",
     "output_type": "stream",
     "text": [
      "Epoch [112/300]: 100%|██████████████████████████████████████████████████████████████████████████████| 9/9 [00:00<00:00, 101.64it/s, loss=12.3]\n"
     ]
    },
    {
     "name": "stdout",
     "output_type": "stream",
     "text": [
      "Epoch [112/300]: Train loss: 7.2905, Valid loss: 23.1399\n"
     ]
    },
    {
     "name": "stderr",
     "output_type": "stream",
     "text": [
      "Epoch [113/300]: 100%|██████████████████████████████████████████████████████████████████████████████| 9/9 [00:00<00:00, 100.88it/s, loss=11.6]\n"
     ]
    },
    {
     "name": "stdout",
     "output_type": "stream",
     "text": [
      "Epoch [113/300]: Train loss: 10.4189, Valid loss: 5.9376\n"
     ]
    },
    {
     "name": "stderr",
     "output_type": "stream",
     "text": [
      "Epoch [114/300]: 100%|██████████████████████████████████████████████████████████████████████████████| 9/9 [00:00<00:00, 101.25it/s, loss=5.51]\n"
     ]
    },
    {
     "name": "stdout",
     "output_type": "stream",
     "text": [
      "Epoch [114/300]: Train loss: 5.5926, Valid loss: 4.5179\n"
     ]
    },
    {
     "name": "stderr",
     "output_type": "stream",
     "text": [
      "Epoch [115/300]: 100%|██████████████████████████████████████████████████████████████████████████████| 9/9 [00:00<00:00, 101.00it/s, loss=4.72]\n"
     ]
    },
    {
     "name": "stdout",
     "output_type": "stream",
     "text": [
      "Epoch [115/300]: Train loss: 4.8028, Valid loss: 4.4272\n"
     ]
    },
    {
     "name": "stderr",
     "output_type": "stream",
     "text": [
      "Epoch [116/300]: 100%|██████████████████████████████████████████████████████████████████████████████| 9/9 [00:00<00:00, 102.67it/s, loss=5.68]\n"
     ]
    },
    {
     "name": "stdout",
     "output_type": "stream",
     "text": [
      "Epoch [116/300]: Train loss: 4.7348, Valid loss: 4.4317\n"
     ]
    },
    {
     "name": "stderr",
     "output_type": "stream",
     "text": [
      "Epoch [117/300]: 100%|██████████████████████████████████████████████████████████████████████████████| 9/9 [00:00<00:00, 100.51it/s, loss=3.83]\n"
     ]
    },
    {
     "name": "stdout",
     "output_type": "stream",
     "text": [
      "Epoch [117/300]: Train loss: 4.7838, Valid loss: 6.2144\n"
     ]
    },
    {
     "name": "stderr",
     "output_type": "stream",
     "text": [
      "Epoch [118/300]: 100%|███████████████████████████████████████████████████████████████████████████████| 9/9 [00:00<00:00, 97.50it/s, loss=5.88]\n"
     ]
    },
    {
     "name": "stdout",
     "output_type": "stream",
     "text": [
      "Epoch [118/300]: Train loss: 5.3531, Valid loss: 4.3360\n"
     ]
    },
    {
     "name": "stderr",
     "output_type": "stream",
     "text": [
      "Epoch [119/300]: 100%|██████████████████████████████████████████████████████████████████████████████| 9/9 [00:00<00:00, 103.37it/s, loss=4.61]\n"
     ]
    },
    {
     "name": "stdout",
     "output_type": "stream",
     "text": [
      "Epoch [119/300]: Train loss: 4.5253, Valid loss: 4.6697\n"
     ]
    },
    {
     "name": "stderr",
     "output_type": "stream",
     "text": [
      "Epoch [120/300]: 100%|██████████████████████████████████████████████████████████████████████████████| 9/9 [00:00<00:00, 102.03it/s, loss=6.69]\n"
     ]
    },
    {
     "name": "stdout",
     "output_type": "stream",
     "text": [
      "Epoch [120/300]: Train loss: 4.5940, Valid loss: 5.0815\n"
     ]
    },
    {
     "name": "stderr",
     "output_type": "stream",
     "text": [
      "Epoch [121/300]: 100%|██████████████████████████████████████████████████████████████████████████████| 9/9 [00:00<00:00, 102.85it/s, loss=4.89]\n"
     ]
    },
    {
     "name": "stdout",
     "output_type": "stream",
     "text": [
      "Epoch [121/300]: Train loss: 4.8663, Valid loss: 4.4355\n"
     ]
    },
    {
     "name": "stderr",
     "output_type": "stream",
     "text": [
      "Epoch [122/300]: 100%|███████████████████████████████████████████████████████████████████████████████| 9/9 [00:00<00:00, 103.51it/s, loss=4.3]\n"
     ]
    },
    {
     "name": "stdout",
     "output_type": "stream",
     "text": [
      "Epoch [122/300]: Train loss: 4.7773, Valid loss: 5.0646\n"
     ]
    },
    {
     "name": "stderr",
     "output_type": "stream",
     "text": [
      "Epoch [123/300]: 100%|██████████████████████████████████████████████████████████████████████████████| 9/9 [00:00<00:00, 102.12it/s, loss=4.63]\n"
     ]
    },
    {
     "name": "stdout",
     "output_type": "stream",
     "text": [
      "Epoch [123/300]: Train loss: 5.6214, Valid loss: 9.1688\n"
     ]
    },
    {
     "name": "stderr",
     "output_type": "stream",
     "text": [
      "Epoch [124/300]: 100%|███████████████████████████████████████████████████████████████████████████████| 9/9 [00:00<00:00, 36.51it/s, loss=3.46]\n"
     ]
    },
    {
     "name": "stdout",
     "output_type": "stream",
     "text": [
      "Epoch [124/300]: Train loss: 5.4799, Valid loss: 5.1426\n"
     ]
    },
    {
     "name": "stderr",
     "output_type": "stream",
     "text": [
      "Epoch [125/300]: 100%|██████████████████████████████████████████████████████████████████████████████| 9/9 [00:00<00:00, 114.51it/s, loss=6.77]\n"
     ]
    },
    {
     "name": "stdout",
     "output_type": "stream",
     "text": [
      "Epoch [125/300]: Train loss: 5.2918, Valid loss: 5.8179\n"
     ]
    },
    {
     "name": "stderr",
     "output_type": "stream",
     "text": [
      "Epoch [126/300]: 100%|██████████████████████████████████████████████████████████████████████████████| 9/9 [00:00<00:00, 107.06it/s, loss=6.09]\n"
     ]
    },
    {
     "name": "stdout",
     "output_type": "stream",
     "text": [
      "Epoch [126/300]: Train loss: 5.5892, Valid loss: 4.1704\n",
      "Saving model with loss 4.170...\n"
     ]
    },
    {
     "name": "stderr",
     "output_type": "stream",
     "text": [
      "Epoch [127/300]: 100%|██████████████████████████████████████████████████████████████████████████████| 9/9 [00:00<00:00, 102.39it/s, loss=5.04]\n"
     ]
    },
    {
     "name": "stdout",
     "output_type": "stream",
     "text": [
      "Epoch [127/300]: Train loss: 4.8431, Valid loss: 4.5277\n"
     ]
    },
    {
     "name": "stderr",
     "output_type": "stream",
     "text": [
      "Epoch [128/300]: 100%|███████████████████████████████████████████████████████████████████████████████| 9/9 [00:00<00:00, 96.47it/s, loss=3.95]\n"
     ]
    },
    {
     "name": "stdout",
     "output_type": "stream",
     "text": [
      "Epoch [128/300]: Train loss: 4.1916, Valid loss: 5.0486\n"
     ]
    },
    {
     "name": "stderr",
     "output_type": "stream",
     "text": [
      "Epoch [129/300]: 100%|███████████████████████████████████████████████████████████████████████████████| 9/9 [00:00<00:00, 97.21it/s, loss=3.71]\n"
     ]
    },
    {
     "name": "stdout",
     "output_type": "stream",
     "text": [
      "Epoch [129/300]: Train loss: 4.8454, Valid loss: 4.0929\n",
      "Saving model with loss 4.093...\n"
     ]
    },
    {
     "name": "stderr",
     "output_type": "stream",
     "text": [
      "Epoch [130/300]: 100%|███████████████████████████████████████████████████████████████████████████████| 9/9 [00:00<00:00, 99.78it/s, loss=4.52]\n"
     ]
    },
    {
     "name": "stdout",
     "output_type": "stream",
     "text": [
      "Epoch [130/300]: Train loss: 5.0050, Valid loss: 7.2773\n"
     ]
    },
    {
     "name": "stderr",
     "output_type": "stream",
     "text": [
      "Epoch [131/300]: 100%|███████████████████████████████████████████████████████████████████████████████| 9/9 [00:00<00:00, 97.35it/s, loss=5.41]\n"
     ]
    },
    {
     "name": "stdout",
     "output_type": "stream",
     "text": [
      "Epoch [131/300]: Train loss: 4.9946, Valid loss: 3.9878\n",
      "Saving model with loss 3.988...\n"
     ]
    },
    {
     "name": "stderr",
     "output_type": "stream",
     "text": [
      "Epoch [132/300]:   0%|                                                                                       | 0/9 [00:00<?, ?it/s, loss=6.48]"
     ]
    },
    {
     "name": "stdout",
     "output_type": "stream",
     "text": [
      "Epoch [132/300]: Train loss: 5.2775, Valid loss: 4.1584\n"
     ]
    },
    {
     "name": "stderr",
     "output_type": "stream",
     "text": [
      "Epoch [133/300]: 100%|██████████████████████████████████████████████████████████████████████████████| 9/9 [00:00<00:00, 101.85it/s, loss=5.51]\n"
     ]
    },
    {
     "name": "stdout",
     "output_type": "stream",
     "text": [
      "Epoch [133/300]: Train loss: 5.3700, Valid loss: 5.0835\n"
     ]
    },
    {
     "name": "stderr",
     "output_type": "stream",
     "text": [
      "Epoch [134/300]: 100%|██████████████████████████████████████████████████████████████████████████████| 9/9 [00:00<00:00, 103.47it/s, loss=8.81]\n"
     ]
    },
    {
     "name": "stdout",
     "output_type": "stream",
     "text": [
      "Epoch [134/300]: Train loss: 5.8505, Valid loss: 5.6195\n"
     ]
    },
    {
     "name": "stderr",
     "output_type": "stream",
     "text": [
      "Epoch [135/300]: 100%|███████████████████████████████████████████████████████████████████████████████| 9/9 [00:00<00:00, 100.63it/s, loss=5.5]\n"
     ]
    },
    {
     "name": "stdout",
     "output_type": "stream",
     "text": [
      "Epoch [135/300]: Train loss: 5.5410, Valid loss: 5.7826\n"
     ]
    },
    {
     "name": "stderr",
     "output_type": "stream",
     "text": [
      "Epoch [136/300]: 100%|██████████████████████████████████████████████████████████████████████████████| 9/9 [00:00<00:00, 103.90it/s, loss=3.71]\n"
     ]
    },
    {
     "name": "stdout",
     "output_type": "stream",
     "text": [
      "Epoch [136/300]: Train loss: 4.7449, Valid loss: 4.8529\n"
     ]
    },
    {
     "name": "stderr",
     "output_type": "stream",
     "text": [
      "Epoch [137/300]: 100%|██████████████████████████████████████████████████████████████████████████████| 9/9 [00:00<00:00, 102.63it/s, loss=3.59]\n"
     ]
    },
    {
     "name": "stdout",
     "output_type": "stream",
     "text": [
      "Epoch [137/300]: Train loss: 4.2997, Valid loss: 4.4218\n"
     ]
    },
    {
     "name": "stderr",
     "output_type": "stream",
     "text": [
      "Epoch [138/300]: 100%|██████████████████████████████████████████████████████████████████████████████| 9/9 [00:00<00:00, 100.85it/s, loss=4.35]\n"
     ]
    },
    {
     "name": "stdout",
     "output_type": "stream",
     "text": [
      "Epoch [138/300]: Train loss: 4.3337, Valid loss: 4.1504\n"
     ]
    },
    {
     "name": "stderr",
     "output_type": "stream",
     "text": [
      "Epoch [139/300]: 100%|██████████████████████████████████████████████████████████████████████████████| 9/9 [00:00<00:00, 101.63it/s, loss=5.83]\n"
     ]
    },
    {
     "name": "stdout",
     "output_type": "stream",
     "text": [
      "Epoch [139/300]: Train loss: 4.3359, Valid loss: 4.0929\n"
     ]
    },
    {
     "name": "stderr",
     "output_type": "stream",
     "text": [
      "Epoch [140/300]: 100%|██████████████████████████████████████████████████████████████████████████████| 9/9 [00:00<00:00, 100.12it/s, loss=4.42]\n"
     ]
    },
    {
     "name": "stdout",
     "output_type": "stream",
     "text": [
      "Epoch [140/300]: Train loss: 4.5139, Valid loss: 3.8255\n",
      "Saving model with loss 3.826...\n"
     ]
    },
    {
     "name": "stderr",
     "output_type": "stream",
     "text": [
      "Epoch [141/300]: 100%|██████████████████████████████████████████████████████████████████████████████| 9/9 [00:00<00:00, 103.26it/s, loss=3.81]\n"
     ]
    },
    {
     "name": "stdout",
     "output_type": "stream",
     "text": [
      "Epoch [141/300]: Train loss: 4.1087, Valid loss: 3.8918\n"
     ]
    },
    {
     "name": "stderr",
     "output_type": "stream",
     "text": [
      "Epoch [142/300]: 100%|██████████████████████████████████████████████████████████████████████████████| 9/9 [00:00<00:00, 102.91it/s, loss=4.34]\n"
     ]
    },
    {
     "name": "stdout",
     "output_type": "stream",
     "text": [
      "Epoch [142/300]: Train loss: 4.3328, Valid loss: 4.6568\n"
     ]
    },
    {
     "name": "stderr",
     "output_type": "stream",
     "text": [
      "Epoch [143/300]: 100%|██████████████████████████████████████████████████████████████████████████████| 9/9 [00:00<00:00, 100.71it/s, loss=3.83]\n"
     ]
    },
    {
     "name": "stdout",
     "output_type": "stream",
     "text": [
      "Epoch [143/300]: Train loss: 4.5495, Valid loss: 4.5313\n"
     ]
    },
    {
     "name": "stderr",
     "output_type": "stream",
     "text": [
      "Epoch [144/300]: 100%|██████████████████████████████████████████████████████████████████████████████| 9/9 [00:00<00:00, 102.02it/s, loss=7.23]\n"
     ]
    },
    {
     "name": "stdout",
     "output_type": "stream",
     "text": [
      "Epoch [144/300]: Train loss: 4.7850, Valid loss: 4.1354\n"
     ]
    },
    {
     "name": "stderr",
     "output_type": "stream",
     "text": [
      "Epoch [145/300]: 100%|██████████████████████████████████████████████████████████████████████████████| 9/9 [00:00<00:00, 102.15it/s, loss=4.53]\n"
     ]
    },
    {
     "name": "stdout",
     "output_type": "stream",
     "text": [
      "Epoch [145/300]: Train loss: 4.6542, Valid loss: 5.1544\n"
     ]
    },
    {
     "name": "stderr",
     "output_type": "stream",
     "text": [
      "Epoch [146/300]: 100%|██████████████████████████████████████████████████████████████████████████████| 9/9 [00:00<00:00, 101.82it/s, loss=4.87]\n"
     ]
    },
    {
     "name": "stdout",
     "output_type": "stream",
     "text": [
      "Epoch [146/300]: Train loss: 4.3564, Valid loss: 5.3626\n"
     ]
    },
    {
     "name": "stderr",
     "output_type": "stream",
     "text": [
      "Epoch [147/300]: 100%|██████████████████████████████████████████████████████████████████████████████| 9/9 [00:00<00:00, 103.53it/s, loss=5.13]\n"
     ]
    },
    {
     "name": "stdout",
     "output_type": "stream",
     "text": [
      "Epoch [147/300]: Train loss: 4.7119, Valid loss: 3.8542\n"
     ]
    },
    {
     "name": "stderr",
     "output_type": "stream",
     "text": [
      "Epoch [148/300]: 100%|██████████████████████████████████████████████████████████████████████████████| 9/9 [00:00<00:00, 102.46it/s, loss=7.03]\n"
     ]
    },
    {
     "name": "stdout",
     "output_type": "stream",
     "text": [
      "Epoch [148/300]: Train loss: 4.9661, Valid loss: 4.8694\n"
     ]
    },
    {
     "name": "stderr",
     "output_type": "stream",
     "text": [
      "Epoch [149/300]: 100%|██████████████████████████████████████████████████████████████████████████████| 9/9 [00:00<00:00, 102.39it/s, loss=5.57]\n"
     ]
    },
    {
     "name": "stdout",
     "output_type": "stream",
     "text": [
      "Epoch [149/300]: Train loss: 5.2295, Valid loss: 4.5902\n"
     ]
    },
    {
     "name": "stderr",
     "output_type": "stream",
     "text": [
      "Epoch [150/300]: 100%|██████████████████████████████████████████████████████████████████████████████| 9/9 [00:00<00:00, 122.05it/s, loss=4.76]\n"
     ]
    },
    {
     "name": "stdout",
     "output_type": "stream",
     "text": [
      "Epoch [150/300]: Train loss: 4.4553, Valid loss: 4.4536\n"
     ]
    },
    {
     "name": "stderr",
     "output_type": "stream",
     "text": [
      "Epoch [151/300]: 100%|██████████████████████████████████████████████████████████████████████████████| 9/9 [00:00<00:00, 120.65it/s, loss=3.82]\n"
     ]
    },
    {
     "name": "stdout",
     "output_type": "stream",
     "text": [
      "Epoch [151/300]: Train loss: 4.1738, Valid loss: 4.0790\n"
     ]
    },
    {
     "name": "stderr",
     "output_type": "stream",
     "text": [
      "Epoch [152/300]: 100%|██████████████████████████████████████████████████████████████████████████████| 9/9 [00:00<00:00, 108.67it/s, loss=4.06]\n"
     ]
    },
    {
     "name": "stdout",
     "output_type": "stream",
     "text": [
      "Epoch [152/300]: Train loss: 4.5962, Valid loss: 4.5405\n"
     ]
    },
    {
     "name": "stderr",
     "output_type": "stream",
     "text": [
      "Epoch [153/300]: 100%|██████████████████████████████████████████████████████████████████████████████| 9/9 [00:00<00:00, 105.89it/s, loss=4.58]\n"
     ]
    },
    {
     "name": "stdout",
     "output_type": "stream",
     "text": [
      "Epoch [153/300]: Train loss: 4.3226, Valid loss: 4.0502\n"
     ]
    },
    {
     "name": "stderr",
     "output_type": "stream",
     "text": [
      "Epoch [154/300]: 100%|██████████████████████████████████████████████████████████████████████████████| 9/9 [00:00<00:00, 104.63it/s, loss=5.06]\n"
     ]
    },
    {
     "name": "stdout",
     "output_type": "stream",
     "text": [
      "Epoch [154/300]: Train loss: 4.3586, Valid loss: 4.4924\n"
     ]
    },
    {
     "name": "stderr",
     "output_type": "stream",
     "text": [
      "Epoch [155/300]: 100%|██████████████████████████████████████████████████████████████████████████████| 9/9 [00:00<00:00, 105.48it/s, loss=5.89]\n"
     ]
    },
    {
     "name": "stdout",
     "output_type": "stream",
     "text": [
      "Epoch [155/300]: Train loss: 4.4764, Valid loss: 3.7051\n",
      "Saving model with loss 3.705...\n"
     ]
    },
    {
     "name": "stderr",
     "output_type": "stream",
     "text": [
      "Epoch [156/300]: 100%|██████████████████████████████████████████████████████████████████████████████| 9/9 [00:00<00:00, 106.86it/s, loss=4.07]\n"
     ]
    },
    {
     "name": "stdout",
     "output_type": "stream",
     "text": [
      "Epoch [156/300]: Train loss: 5.1108, Valid loss: 5.0246\n"
     ]
    },
    {
     "name": "stderr",
     "output_type": "stream",
     "text": [
      "Epoch [157/300]: 100%|██████████████████████████████████████████████████████████████████████████████| 9/9 [00:00<00:00, 106.83it/s, loss=3.24]\n"
     ]
    },
    {
     "name": "stdout",
     "output_type": "stream",
     "text": [
      "Epoch [157/300]: Train loss: 4.2463, Valid loss: 3.7048\n",
      "Saving model with loss 3.705...\n"
     ]
    },
    {
     "name": "stderr",
     "output_type": "stream",
     "text": [
      "Epoch [158/300]: 100%|██████████████████████████████████████████████████████████████████████████████| 9/9 [00:00<00:00, 108.00it/s, loss=4.73]\n"
     ]
    },
    {
     "name": "stdout",
     "output_type": "stream",
     "text": [
      "Epoch [158/300]: Train loss: 4.5954, Valid loss: 4.9020\n"
     ]
    },
    {
     "name": "stderr",
     "output_type": "stream",
     "text": [
      "Epoch [159/300]: 100%|██████████████████████████████████████████████████████████████████████████████| 9/9 [00:00<00:00, 107.04it/s, loss=2.75]\n"
     ]
    },
    {
     "name": "stdout",
     "output_type": "stream",
     "text": [
      "Epoch [159/300]: Train loss: 3.9826, Valid loss: 3.8721\n"
     ]
    },
    {
     "name": "stderr",
     "output_type": "stream",
     "text": [
      "Epoch [160/300]: 100%|██████████████████████████████████████████████████████████████████████████████| 9/9 [00:00<00:00, 105.81it/s, loss=3.05]\n"
     ]
    },
    {
     "name": "stdout",
     "output_type": "stream",
     "text": [
      "Epoch [160/300]: Train loss: 3.9231, Valid loss: 4.3633\n"
     ]
    },
    {
     "name": "stderr",
     "output_type": "stream",
     "text": [
      "Epoch [161/300]: 100%|██████████████████████████████████████████████████████████████████████████████| 9/9 [00:00<00:00, 107.32it/s, loss=3.51]\n"
     ]
    },
    {
     "name": "stdout",
     "output_type": "stream",
     "text": [
      "Epoch [161/300]: Train loss: 3.8474, Valid loss: 4.5173\n"
     ]
    },
    {
     "name": "stderr",
     "output_type": "stream",
     "text": [
      "Epoch [162/300]: 100%|██████████████████████████████████████████████████████████████████████████████| 9/9 [00:00<00:00, 106.97it/s, loss=4.24]\n"
     ]
    },
    {
     "name": "stdout",
     "output_type": "stream",
     "text": [
      "Epoch [162/300]: Train loss: 4.7532, Valid loss: 3.7245\n"
     ]
    },
    {
     "name": "stderr",
     "output_type": "stream",
     "text": [
      "Epoch [163/300]: 100%|██████████████████████████████████████████████████████████████████████████████| 9/9 [00:00<00:00, 107.56it/s, loss=5.69]\n"
     ]
    },
    {
     "name": "stdout",
     "output_type": "stream",
     "text": [
      "Epoch [163/300]: Train loss: 4.6912, Valid loss: 3.9864\n"
     ]
    },
    {
     "name": "stderr",
     "output_type": "stream",
     "text": [
      "Epoch [164/300]: 100%|██████████████████████████████████████████████████████████████████████████████| 9/9 [00:00<00:00, 106.03it/s, loss=3.15]\n"
     ]
    },
    {
     "name": "stdout",
     "output_type": "stream",
     "text": [
      "Epoch [164/300]: Train loss: 3.8563, Valid loss: 3.9777\n"
     ]
    },
    {
     "name": "stderr",
     "output_type": "stream",
     "text": [
      "Epoch [165/300]: 100%|██████████████████████████████████████████████████████████████████████████████| 9/9 [00:00<00:00, 106.14it/s, loss=2.77]\n"
     ]
    },
    {
     "name": "stdout",
     "output_type": "stream",
     "text": [
      "Epoch [165/300]: Train loss: 4.5725, Valid loss: 6.9253\n"
     ]
    },
    {
     "name": "stderr",
     "output_type": "stream",
     "text": [
      "Epoch [166/300]: 100%|██████████████████████████████████████████████████████████████████████████████| 9/9 [00:00<00:00, 111.34it/s, loss=4.85]\n"
     ]
    },
    {
     "name": "stdout",
     "output_type": "stream",
     "text": [
      "Epoch [166/300]: Train loss: 4.5945, Valid loss: 4.0140\n"
     ]
    },
    {
     "name": "stderr",
     "output_type": "stream",
     "text": [
      "Epoch [167/300]: 100%|██████████████████████████████████████████████████████████████████████████████| 9/9 [00:00<00:00, 108.48it/s, loss=6.72]\n"
     ]
    },
    {
     "name": "stdout",
     "output_type": "stream",
     "text": [
      "Epoch [167/300]: Train loss: 5.0272, Valid loss: 5.8435\n"
     ]
    },
    {
     "name": "stderr",
     "output_type": "stream",
     "text": [
      "Epoch [168/300]: 100%|██████████████████████████████████████████████████████████████████████████████| 9/9 [00:00<00:00, 105.48it/s, loss=3.48]\n"
     ]
    },
    {
     "name": "stdout",
     "output_type": "stream",
     "text": [
      "Epoch [168/300]: Train loss: 5.0765, Valid loss: 3.9609\n"
     ]
    },
    {
     "name": "stderr",
     "output_type": "stream",
     "text": [
      "Epoch [169/300]: 100%|██████████████████████████████████████████████████████████████████████████████| 9/9 [00:00<00:00, 103.49it/s, loss=3.49]\n"
     ]
    },
    {
     "name": "stdout",
     "output_type": "stream",
     "text": [
      "Epoch [169/300]: Train loss: 4.0627, Valid loss: 3.2419\n",
      "Saving model with loss 3.242...\n"
     ]
    },
    {
     "name": "stderr",
     "output_type": "stream",
     "text": [
      "Epoch [170/300]: 100%|██████████████████████████████████████████████████████████████████████████████| 9/9 [00:00<00:00, 103.13it/s, loss=3.84]\n"
     ]
    },
    {
     "name": "stdout",
     "output_type": "stream",
     "text": [
      "Epoch [170/300]: Train loss: 4.3432, Valid loss: 4.1779\n"
     ]
    },
    {
     "name": "stderr",
     "output_type": "stream",
     "text": [
      "Epoch [171/300]: 100%|██████████████████████████████████████████████████████████████████████████████| 9/9 [00:00<00:00, 103.80it/s, loss=4.18]\n"
     ]
    },
    {
     "name": "stdout",
     "output_type": "stream",
     "text": [
      "Epoch [171/300]: Train loss: 4.0041, Valid loss: 4.7839\n"
     ]
    },
    {
     "name": "stderr",
     "output_type": "stream",
     "text": [
      "Epoch [172/300]: 100%|██████████████████████████████████████████████████████████████████████████████| 9/9 [00:00<00:00, 101.42it/s, loss=4.02]\n"
     ]
    },
    {
     "name": "stdout",
     "output_type": "stream",
     "text": [
      "Epoch [172/300]: Train loss: 4.0339, Valid loss: 5.3765\n"
     ]
    },
    {
     "name": "stderr",
     "output_type": "stream",
     "text": [
      "Epoch [173/300]: 100%|██████████████████████████████████████████████████████████████████████████████| 9/9 [00:00<00:00, 101.61it/s, loss=3.68]\n"
     ]
    },
    {
     "name": "stdout",
     "output_type": "stream",
     "text": [
      "Epoch [173/300]: Train loss: 3.8879, Valid loss: 4.0059\n"
     ]
    },
    {
     "name": "stderr",
     "output_type": "stream",
     "text": [
      "Epoch [174/300]: 100%|██████████████████████████████████████████████████████████████████████████████| 9/9 [00:00<00:00, 104.94it/s, loss=4.56]\n"
     ]
    },
    {
     "name": "stdout",
     "output_type": "stream",
     "text": [
      "Epoch [174/300]: Train loss: 4.1534, Valid loss: 3.8347\n"
     ]
    },
    {
     "name": "stderr",
     "output_type": "stream",
     "text": [
      "Epoch [175/300]: 100%|██████████████████████████████████████████████████████████████████████████████| 9/9 [00:00<00:00, 102.24it/s, loss=3.13]\n"
     ]
    },
    {
     "name": "stdout",
     "output_type": "stream",
     "text": [
      "Epoch [175/300]: Train loss: 4.1215, Valid loss: 3.5218\n"
     ]
    },
    {
     "name": "stderr",
     "output_type": "stream",
     "text": [
      "Epoch [176/300]: 100%|██████████████████████████████████████████████████████████████████████████████| 9/9 [00:00<00:00, 102.80it/s, loss=3.23]\n"
     ]
    },
    {
     "name": "stdout",
     "output_type": "stream",
     "text": [
      "Epoch [176/300]: Train loss: 3.9137, Valid loss: 3.8836\n"
     ]
    },
    {
     "name": "stderr",
     "output_type": "stream",
     "text": [
      "Epoch [177/300]: 100%|██████████████████████████████████████████████████████████████████████████████| 9/9 [00:00<00:00, 103.43it/s, loss=5.75]\n"
     ]
    },
    {
     "name": "stdout",
     "output_type": "stream",
     "text": [
      "Epoch [177/300]: Train loss: 4.1397, Valid loss: 3.8310\n"
     ]
    },
    {
     "name": "stderr",
     "output_type": "stream",
     "text": [
      "Epoch [178/300]: 100%|██████████████████████████████████████████████████████████████████████████████| 9/9 [00:00<00:00, 105.17it/s, loss=4.06]\n"
     ]
    },
    {
     "name": "stdout",
     "output_type": "stream",
     "text": [
      "Epoch [178/300]: Train loss: 3.8331, Valid loss: 4.1222\n"
     ]
    },
    {
     "name": "stderr",
     "output_type": "stream",
     "text": [
      "Epoch [179/300]: 100%|██████████████████████████████████████████████████████████████████████████████| 9/9 [00:00<00:00, 103.74it/s, loss=5.58]\n"
     ]
    },
    {
     "name": "stdout",
     "output_type": "stream",
     "text": [
      "Epoch [179/300]: Train loss: 4.5806, Valid loss: 4.3187\n"
     ]
    },
    {
     "name": "stderr",
     "output_type": "stream",
     "text": [
      "Epoch [180/300]: 100%|██████████████████████████████████████████████████████████████████████████████| 9/9 [00:00<00:00, 103.90it/s, loss=3.54]\n"
     ]
    },
    {
     "name": "stdout",
     "output_type": "stream",
     "text": [
      "Epoch [180/300]: Train loss: 4.0199, Valid loss: 4.4562\n"
     ]
    },
    {
     "name": "stderr",
     "output_type": "stream",
     "text": [
      "Epoch [181/300]: 100%|██████████████████████████████████████████████████████████████████████████████| 9/9 [00:00<00:00, 104.62it/s, loss=4.62]\n"
     ]
    },
    {
     "name": "stdout",
     "output_type": "stream",
     "text": [
      "Epoch [181/300]: Train loss: 4.2671, Valid loss: 3.9957\n"
     ]
    },
    {
     "name": "stderr",
     "output_type": "stream",
     "text": [
      "Epoch [182/300]: 100%|██████████████████████████████████████████████████████████████████████████████| 9/9 [00:00<00:00, 104.21it/s, loss=6.29]\n"
     ]
    },
    {
     "name": "stdout",
     "output_type": "stream",
     "text": [
      "Epoch [182/300]: Train loss: 4.4042, Valid loss: 3.8383\n"
     ]
    },
    {
     "name": "stderr",
     "output_type": "stream",
     "text": [
      "Epoch [183/300]: 100%|██████████████████████████████████████████████████████████████████████████████| 9/9 [00:00<00:00, 105.78it/s, loss=3.03]\n"
     ]
    },
    {
     "name": "stdout",
     "output_type": "stream",
     "text": [
      "Epoch [183/300]: Train loss: 4.1627, Valid loss: 4.6710\n"
     ]
    },
    {
     "name": "stderr",
     "output_type": "stream",
     "text": [
      "Epoch [184/300]: 100%|██████████████████████████████████████████████████████████████████████████████| 9/9 [00:00<00:00, 103.99it/s, loss=3.71]\n"
     ]
    },
    {
     "name": "stdout",
     "output_type": "stream",
     "text": [
      "Epoch [184/300]: Train loss: 3.6326, Valid loss: 5.4878\n"
     ]
    },
    {
     "name": "stderr",
     "output_type": "stream",
     "text": [
      "Epoch [185/300]: 100%|██████████████████████████████████████████████████████████████████████████████| 9/9 [00:00<00:00, 101.51it/s, loss=4.66]\n"
     ]
    },
    {
     "name": "stdout",
     "output_type": "stream",
     "text": [
      "Epoch [185/300]: Train loss: 4.3685, Valid loss: 4.2647\n"
     ]
    },
    {
     "name": "stderr",
     "output_type": "stream",
     "text": [
      "Epoch [186/300]: 100%|██████████████████████████████████████████████████████████████████████████████| 9/9 [00:00<00:00, 103.76it/s, loss=3.54]\n"
     ]
    },
    {
     "name": "stdout",
     "output_type": "stream",
     "text": [
      "Epoch [186/300]: Train loss: 4.2999, Valid loss: 4.2433\n"
     ]
    },
    {
     "name": "stderr",
     "output_type": "stream",
     "text": [
      "Epoch [187/300]: 100%|██████████████████████████████████████████████████████████████████████████████| 9/9 [00:00<00:00, 102.91it/s, loss=3.92]\n"
     ]
    },
    {
     "name": "stdout",
     "output_type": "stream",
     "text": [
      "Epoch [187/300]: Train loss: 3.8008, Valid loss: 3.7042\n"
     ]
    },
    {
     "name": "stderr",
     "output_type": "stream",
     "text": [
      "Epoch [188/300]: 100%|██████████████████████████████████████████████████████████████████████████████| 9/9 [00:00<00:00, 105.32it/s, loss=3.83]\n"
     ]
    },
    {
     "name": "stdout",
     "output_type": "stream",
     "text": [
      "Epoch [188/300]: Train loss: 3.6125, Valid loss: 3.6534\n"
     ]
    },
    {
     "name": "stderr",
     "output_type": "stream",
     "text": [
      "Epoch [189/300]: 100%|██████████████████████████████████████████████████████████████████████████████| 9/9 [00:00<00:00, 105.87it/s, loss=3.86]\n"
     ]
    },
    {
     "name": "stdout",
     "output_type": "stream",
     "text": [
      "Epoch [189/300]: Train loss: 3.8186, Valid loss: 3.4433\n"
     ]
    },
    {
     "name": "stderr",
     "output_type": "stream",
     "text": [
      "Epoch [190/300]: 100%|███████████████████████████████████████████████████████████████████████████████| 9/9 [00:00<00:00, 106.08it/s, loss=3.1]\n"
     ]
    },
    {
     "name": "stdout",
     "output_type": "stream",
     "text": [
      "Epoch [190/300]: Train loss: 3.5512, Valid loss: 4.0193\n"
     ]
    },
    {
     "name": "stderr",
     "output_type": "stream",
     "text": [
      "Epoch [191/300]: 100%|██████████████████████████████████████████████████████████████████████████████| 9/9 [00:00<00:00, 106.13it/s, loss=4.41]\n"
     ]
    },
    {
     "name": "stdout",
     "output_type": "stream",
     "text": [
      "Epoch [191/300]: Train loss: 3.7224, Valid loss: 3.4325\n"
     ]
    },
    {
     "name": "stderr",
     "output_type": "stream",
     "text": [
      "Epoch [192/300]: 100%|██████████████████████████████████████████████████████████████████████████████| 9/9 [00:00<00:00, 105.05it/s, loss=3.44]\n"
     ]
    },
    {
     "name": "stdout",
     "output_type": "stream",
     "text": [
      "Epoch [192/300]: Train loss: 3.9523, Valid loss: 4.7139\n"
     ]
    },
    {
     "name": "stderr",
     "output_type": "stream",
     "text": [
      "Epoch [193/300]: 100%|██████████████████████████████████████████████████████████████████████████████| 9/9 [00:00<00:00, 104.52it/s, loss=3.26]\n"
     ]
    },
    {
     "name": "stdout",
     "output_type": "stream",
     "text": [
      "Epoch [193/300]: Train loss: 4.1047, Valid loss: 6.0842\n"
     ]
    },
    {
     "name": "stderr",
     "output_type": "stream",
     "text": [
      "Epoch [194/300]: 100%|███████████████████████████████████████████████████████████████████████████████| 9/9 [00:00<00:00, 105.03it/s, loss=7.4]\n"
     ]
    },
    {
     "name": "stdout",
     "output_type": "stream",
     "text": [
      "Epoch [194/300]: Train loss: 4.6685, Valid loss: 4.2463\n"
     ]
    },
    {
     "name": "stderr",
     "output_type": "stream",
     "text": [
      "Epoch [195/300]: 100%|██████████████████████████████████████████████████████████████████████████████| 9/9 [00:00<00:00, 103.96it/s, loss=5.41]\n"
     ]
    },
    {
     "name": "stdout",
     "output_type": "stream",
     "text": [
      "Epoch [195/300]: Train loss: 4.3511, Valid loss: 3.4283\n"
     ]
    },
    {
     "name": "stderr",
     "output_type": "stream",
     "text": [
      "Epoch [196/300]: 100%|██████████████████████████████████████████████████████████████████████████████| 9/9 [00:00<00:00, 103.39it/s, loss=4.85]\n"
     ]
    },
    {
     "name": "stdout",
     "output_type": "stream",
     "text": [
      "Epoch [196/300]: Train loss: 4.2619, Valid loss: 4.1713\n"
     ]
    },
    {
     "name": "stderr",
     "output_type": "stream",
     "text": [
      "Epoch [197/300]: 100%|██████████████████████████████████████████████████████████████████████████████| 9/9 [00:00<00:00, 103.24it/s, loss=3.99]\n"
     ]
    },
    {
     "name": "stdout",
     "output_type": "stream",
     "text": [
      "Epoch [197/300]: Train loss: 4.2829, Valid loss: 4.7428\n"
     ]
    },
    {
     "name": "stderr",
     "output_type": "stream",
     "text": [
      "Epoch [198/300]: 100%|██████████████████████████████████████████████████████████████████████████████| 9/9 [00:00<00:00, 100.49it/s, loss=3.98]\n"
     ]
    },
    {
     "name": "stdout",
     "output_type": "stream",
     "text": [
      "Epoch [198/300]: Train loss: 4.0539, Valid loss: 4.0281\n"
     ]
    },
    {
     "name": "stderr",
     "output_type": "stream",
     "text": [
      "Epoch [199/300]: 100%|██████████████████████████████████████████████████████████████████████████████| 9/9 [00:00<00:00, 117.79it/s, loss=4.56]"
     ]
    },
    {
     "name": "stdout",
     "output_type": "stream",
     "text": [
      "Epoch [199/300]: Train loss: 3.7269, Valid loss: 3.0431"
     ]
    },
    {
     "name": "stderr",
     "output_type": "stream",
     "text": [
      "\n"
     ]
    },
    {
     "name": "stdout",
     "output_type": "stream",
     "text": [
      "\n",
      "Saving model with loss 3.043...\n"
     ]
    },
    {
     "name": "stderr",
     "output_type": "stream",
     "text": [
      "Epoch [200/300]: 100%|██████████████████████████████████████████████████████████████████████████████| 9/9 [00:00<00:00, 117.96it/s, loss=3.16]\n"
     ]
    },
    {
     "name": "stdout",
     "output_type": "stream",
     "text": [
      "Epoch [200/300]: Train loss: 4.1271, Valid loss: 3.2111\n"
     ]
    },
    {
     "name": "stderr",
     "output_type": "stream",
     "text": [
      "Epoch [201/300]: 100%|███████████████████████████████████████████████████████████████████████████████| 9/9 [00:00<00:00, 41.50it/s, loss=3.34]\n"
     ]
    },
    {
     "name": "stdout",
     "output_type": "stream",
     "text": [
      "Epoch [201/300]: Train loss: 3.8299, Valid loss: 4.3354\n"
     ]
    },
    {
     "name": "stderr",
     "output_type": "stream",
     "text": [
      "Epoch [202/300]: 100%|██████████████████████████████████████████████████████████████████████████████| 9/9 [00:00<00:00, 121.57it/s, loss=5.29]\n"
     ]
    },
    {
     "name": "stdout",
     "output_type": "stream",
     "text": [
      "Epoch [202/300]: Train loss: 4.4883, Valid loss: 3.9977\n"
     ]
    },
    {
     "name": "stderr",
     "output_type": "stream",
     "text": [
      "Epoch [203/300]: 100%|██████████████████████████████████████████████████████████████████████████████| 9/9 [00:00<00:00, 113.81it/s, loss=4.04]\n"
     ]
    },
    {
     "name": "stdout",
     "output_type": "stream",
     "text": [
      "Epoch [203/300]: Train loss: 4.6397, Valid loss: 5.8282\n"
     ]
    },
    {
     "name": "stderr",
     "output_type": "stream",
     "text": [
      "Epoch [204/300]: 100%|██████████████████████████████████████████████████████████████████████████████| 9/9 [00:00<00:00, 107.75it/s, loss=4.43]\n"
     ]
    },
    {
     "name": "stdout",
     "output_type": "stream",
     "text": [
      "Epoch [204/300]: Train loss: 6.4246, Valid loss: 3.2869\n"
     ]
    },
    {
     "name": "stderr",
     "output_type": "stream",
     "text": [
      "Epoch [205/300]: 100%|██████████████████████████████████████████████████████████████████████████████| 9/9 [00:00<00:00, 104.38it/s, loss=4.48]\n"
     ]
    },
    {
     "name": "stdout",
     "output_type": "stream",
     "text": [
      "Epoch [205/300]: Train loss: 4.3590, Valid loss: 3.6791\n"
     ]
    },
    {
     "name": "stderr",
     "output_type": "stream",
     "text": [
      "Epoch [206/300]: 100%|██████████████████████████████████████████████████████████████████████████████| 9/9 [00:00<00:00, 104.07it/s, loss=4.14]\n"
     ]
    },
    {
     "name": "stdout",
     "output_type": "stream",
     "text": [
      "Epoch [206/300]: Train loss: 3.5796, Valid loss: 7.1002\n"
     ]
    },
    {
     "name": "stderr",
     "output_type": "stream",
     "text": [
      "Epoch [207/300]: 100%|██████████████████████████████████████████████████████████████████████████████| 9/9 [00:00<00:00, 102.00it/s, loss=3.05]\n"
     ]
    },
    {
     "name": "stdout",
     "output_type": "stream",
     "text": [
      "Epoch [207/300]: Train loss: 5.9874, Valid loss: 7.0561\n"
     ]
    },
    {
     "name": "stderr",
     "output_type": "stream",
     "text": [
      "Epoch [208/300]: 100%|██████████████████████████████████████████████████████████████████████████████| 9/9 [00:00<00:00, 104.53it/s, loss=3.52]\n"
     ]
    },
    {
     "name": "stdout",
     "output_type": "stream",
     "text": [
      "Epoch [208/300]: Train loss: 5.0064, Valid loss: 4.1739\n"
     ]
    },
    {
     "name": "stderr",
     "output_type": "stream",
     "text": [
      "Epoch [209/300]: 100%|██████████████████████████████████████████████████████████████████████████████| 9/9 [00:00<00:00, 102.87it/s, loss=4.06]\n"
     ]
    },
    {
     "name": "stdout",
     "output_type": "stream",
     "text": [
      "Epoch [209/300]: Train loss: 4.0305, Valid loss: 4.8822\n"
     ]
    },
    {
     "name": "stderr",
     "output_type": "stream",
     "text": [
      "Epoch [210/300]: 100%|███████████████████████████████████████████████████████████████████████████████| 9/9 [00:00<00:00, 102.70it/s, loss=3.4]\n"
     ]
    },
    {
     "name": "stdout",
     "output_type": "stream",
     "text": [
      "Epoch [210/300]: Train loss: 3.8969, Valid loss: 3.6518\n"
     ]
    },
    {
     "name": "stderr",
     "output_type": "stream",
     "text": [
      "Epoch [211/300]: 100%|██████████████████████████████████████████████████████████████████████████████| 9/9 [00:00<00:00, 104.10it/s, loss=3.54]\n"
     ]
    },
    {
     "name": "stdout",
     "output_type": "stream",
     "text": [
      "Epoch [211/300]: Train loss: 3.6792, Valid loss: 3.3980\n"
     ]
    },
    {
     "name": "stderr",
     "output_type": "stream",
     "text": [
      "Epoch [212/300]: 100%|██████████████████████████████████████████████████████████████████████████████| 9/9 [00:00<00:00, 104.42it/s, loss=3.13]\n"
     ]
    },
    {
     "name": "stdout",
     "output_type": "stream",
     "text": [
      "Epoch [212/300]: Train loss: 3.4060, Valid loss: 3.9617\n"
     ]
    },
    {
     "name": "stderr",
     "output_type": "stream",
     "text": [
      "Epoch [213/300]: 100%|██████████████████████████████████████████████████████████████████████████████| 9/9 [00:00<00:00, 105.42it/s, loss=3.69]\n"
     ]
    },
    {
     "name": "stdout",
     "output_type": "stream",
     "text": [
      "Epoch [213/300]: Train loss: 3.4859, Valid loss: 3.6635\n"
     ]
    },
    {
     "name": "stderr",
     "output_type": "stream",
     "text": [
      "Epoch [214/300]: 100%|███████████████████████████████████████████████████████████████████████████████| 9/9 [00:00<00:00, 99.69it/s, loss=3.07]\n"
     ]
    },
    {
     "name": "stdout",
     "output_type": "stream",
     "text": [
      "Epoch [214/300]: Train loss: 3.3394, Valid loss: 4.2206\n"
     ]
    },
    {
     "name": "stderr",
     "output_type": "stream",
     "text": [
      "Epoch [215/300]: 100%|██████████████████████████████████████████████████████████████████████████████| 9/9 [00:00<00:00, 114.78it/s, loss=4.86]\n"
     ]
    },
    {
     "name": "stdout",
     "output_type": "stream",
     "text": [
      "Epoch [215/300]: Train loss: 3.6802, Valid loss: 4.6846\n"
     ]
    },
    {
     "name": "stderr",
     "output_type": "stream",
     "text": [
      "Epoch [216/300]: 100%|██████████████████████████████████████████████████████████████████████████████| 9/9 [00:00<00:00, 105.55it/s, loss=3.86]\n"
     ]
    },
    {
     "name": "stdout",
     "output_type": "stream",
     "text": [
      "Epoch [216/300]: Train loss: 3.6271, Valid loss: 4.4505\n"
     ]
    },
    {
     "name": "stderr",
     "output_type": "stream",
     "text": [
      "Epoch [217/300]: 100%|██████████████████████████████████████████████████████████████████████████████| 9/9 [00:00<00:00, 103.85it/s, loss=4.33]\n"
     ]
    },
    {
     "name": "stdout",
     "output_type": "stream",
     "text": [
      "Epoch [217/300]: Train loss: 3.8336, Valid loss: 3.9085\n"
     ]
    },
    {
     "name": "stderr",
     "output_type": "stream",
     "text": [
      "Epoch [218/300]: 100%|██████████████████████████████████████████████████████████████████████████████| 9/9 [00:00<00:00, 101.55it/s, loss=4.13]\n"
     ]
    },
    {
     "name": "stdout",
     "output_type": "stream",
     "text": [
      "Epoch [218/300]: Train loss: 4.0388, Valid loss: 3.7544\n"
     ]
    },
    {
     "name": "stderr",
     "output_type": "stream",
     "text": [
      "Epoch [219/300]: 100%|██████████████████████████████████████████████████████████████████████████████| 9/9 [00:00<00:00, 101.98it/s, loss=4.01]\n"
     ]
    },
    {
     "name": "stdout",
     "output_type": "stream",
     "text": [
      "Epoch [219/300]: Train loss: 4.2151, Valid loss: 4.2114\n"
     ]
    },
    {
     "name": "stderr",
     "output_type": "stream",
     "text": [
      "Epoch [220/300]: 100%|██████████████████████████████████████████████████████████████████████████████| 9/9 [00:00<00:00, 102.33it/s, loss=3.55]\n"
     ]
    },
    {
     "name": "stdout",
     "output_type": "stream",
     "text": [
      "Epoch [220/300]: Train loss: 4.0335, Valid loss: 7.0114\n"
     ]
    },
    {
     "name": "stderr",
     "output_type": "stream",
     "text": [
      "Epoch [221/300]: 100%|███████████████████████████████████████████████████████████████████████████████| 9/9 [00:00<00:00, 98.29it/s, loss=3.04]\n"
     ]
    },
    {
     "name": "stdout",
     "output_type": "stream",
     "text": [
      "Epoch [221/300]: Train loss: 4.0849, Valid loss: 3.6336\n"
     ]
    },
    {
     "name": "stderr",
     "output_type": "stream",
     "text": [
      "Epoch [222/300]: 100%|███████████████████████████████████████████████████████████████████████████████| 9/9 [00:00<00:00, 97.55it/s, loss=3.65]\n"
     ]
    },
    {
     "name": "stdout",
     "output_type": "stream",
     "text": [
      "Epoch [222/300]: Train loss: 3.9819, Valid loss: 2.9376\n",
      "Saving model with loss 2.938...\n"
     ]
    },
    {
     "name": "stderr",
     "output_type": "stream",
     "text": [
      "Epoch [223/300]: 100%|█████████████████████████████████████████████████████████████████████████████████| 9/9 [00:00<00:00, 103.01it/s, loss=4]\n"
     ]
    },
    {
     "name": "stdout",
     "output_type": "stream",
     "text": [
      "Epoch [223/300]: Train loss: 4.0169, Valid loss: 4.4672\n"
     ]
    },
    {
     "name": "stderr",
     "output_type": "stream",
     "text": [
      "Epoch [224/300]: 100%|██████████████████████████████████████████████████████████████████████████████| 9/9 [00:00<00:00, 104.01it/s, loss=2.62]\n"
     ]
    },
    {
     "name": "stdout",
     "output_type": "stream",
     "text": [
      "Epoch [224/300]: Train loss: 4.2389, Valid loss: 3.7187\n"
     ]
    },
    {
     "name": "stderr",
     "output_type": "stream",
     "text": [
      "Epoch [225/300]: 100%|██████████████████████████████████████████████████████████████████████████████| 9/9 [00:00<00:00, 107.46it/s, loss=4.36]\n"
     ]
    },
    {
     "name": "stdout",
     "output_type": "stream",
     "text": [
      "Epoch [225/300]: Train loss: 3.3175, Valid loss: 3.2063\n"
     ]
    },
    {
     "name": "stderr",
     "output_type": "stream",
     "text": [
      "Epoch [226/300]: 100%|██████████████████████████████████████████████████████████████████████████████| 9/9 [00:00<00:00, 103.64it/s, loss=4.78]\n"
     ]
    },
    {
     "name": "stdout",
     "output_type": "stream",
     "text": [
      "Epoch [226/300]: Train loss: 4.0225, Valid loss: 3.8030\n"
     ]
    },
    {
     "name": "stderr",
     "output_type": "stream",
     "text": [
      "Epoch [227/300]: 100%|██████████████████████████████████████████████████████████████████████████████| 9/9 [00:00<00:00, 101.39it/s, loss=2.79]\n"
     ]
    },
    {
     "name": "stdout",
     "output_type": "stream",
     "text": [
      "Epoch [227/300]: Train loss: 3.9017, Valid loss: 2.7887\n",
      "Saving model with loss 2.789...\n"
     ]
    },
    {
     "name": "stderr",
     "output_type": "stream",
     "text": [
      "Epoch [228/300]: 100%|███████████████████████████████████████████████████████████████████████████████| 9/9 [00:00<00:00, 103.06it/s, loss=4.7]\n"
     ]
    },
    {
     "name": "stdout",
     "output_type": "stream",
     "text": [
      "Epoch [228/300]: Train loss: 3.7056, Valid loss: 3.6380\n"
     ]
    },
    {
     "name": "stderr",
     "output_type": "stream",
     "text": [
      "Epoch [229/300]: 100%|██████████████████████████████████████████████████████████████████████████████| 9/9 [00:00<00:00, 102.71it/s, loss=3.25]\n"
     ]
    },
    {
     "name": "stdout",
     "output_type": "stream",
     "text": [
      "Epoch [229/300]: Train loss: 3.7136, Valid loss: 4.1699\n"
     ]
    },
    {
     "name": "stderr",
     "output_type": "stream",
     "text": [
      "Epoch [230/300]: 100%|██████████████████████████████████████████████████████████████████████████████| 9/9 [00:00<00:00, 103.50it/s, loss=3.08]\n"
     ]
    },
    {
     "name": "stdout",
     "output_type": "stream",
     "text": [
      "Epoch [230/300]: Train loss: 3.6337, Valid loss: 3.9040\n"
     ]
    },
    {
     "name": "stderr",
     "output_type": "stream",
     "text": [
      "Epoch [231/300]: 100%|██████████████████████████████████████████████████████████████████████████████| 9/9 [00:00<00:00, 102.30it/s, loss=3.38]\n"
     ]
    },
    {
     "name": "stdout",
     "output_type": "stream",
     "text": [
      "Epoch [231/300]: Train loss: 3.7824, Valid loss: 3.2643\n"
     ]
    },
    {
     "name": "stderr",
     "output_type": "stream",
     "text": [
      "Epoch [232/300]: 100%|██████████████████████████████████████████████████████████████████████████████| 9/9 [00:00<00:00, 103.41it/s, loss=3.82]\n"
     ]
    },
    {
     "name": "stdout",
     "output_type": "stream",
     "text": [
      "Epoch [232/300]: Train loss: 3.9043, Valid loss: 4.0403\n"
     ]
    },
    {
     "name": "stderr",
     "output_type": "stream",
     "text": [
      "Epoch [233/300]: 100%|██████████████████████████████████████████████████████████████████████████████| 9/9 [00:00<00:00, 104.24it/s, loss=2.96]\n"
     ]
    },
    {
     "name": "stdout",
     "output_type": "stream",
     "text": [
      "Epoch [233/300]: Train loss: 3.4482, Valid loss: 3.1054\n"
     ]
    },
    {
     "name": "stderr",
     "output_type": "stream",
     "text": [
      "Epoch [234/300]: 100%|██████████████████████████████████████████████████████████████████████████████| 9/9 [00:00<00:00, 102.88it/s, loss=5.45]\n"
     ]
    },
    {
     "name": "stdout",
     "output_type": "stream",
     "text": [
      "Epoch [234/300]: Train loss: 3.5251, Valid loss: 4.3982\n"
     ]
    },
    {
     "name": "stderr",
     "output_type": "stream",
     "text": [
      "Epoch [235/300]: 100%|███████████████████████████████████████████████████████████████████████████████| 9/9 [00:00<00:00, 104.86it/s, loss=2.7]\n"
     ]
    },
    {
     "name": "stdout",
     "output_type": "stream",
     "text": [
      "Epoch [235/300]: Train loss: 4.3569, Valid loss: 7.4668\n"
     ]
    },
    {
     "name": "stderr",
     "output_type": "stream",
     "text": [
      "Epoch [236/300]: 100%|██████████████████████████████████████████████████████████████████████████████| 9/9 [00:00<00:00, 101.47it/s, loss=4.41]\n"
     ]
    },
    {
     "name": "stdout",
     "output_type": "stream",
     "text": [
      "Epoch [236/300]: Train loss: 4.0221, Valid loss: 4.8039\n"
     ]
    },
    {
     "name": "stderr",
     "output_type": "stream",
     "text": [
      "Epoch [237/300]: 100%|██████████████████████████████████████████████████████████████████████████████| 9/9 [00:00<00:00, 104.34it/s, loss=3.62]\n"
     ]
    },
    {
     "name": "stdout",
     "output_type": "stream",
     "text": [
      "Epoch [237/300]: Train loss: 3.5795, Valid loss: 2.7680\n",
      "Saving model with loss 2.768...\n"
     ]
    },
    {
     "name": "stderr",
     "output_type": "stream",
     "text": [
      "Epoch [238/300]: 100%|██████████████████████████████████████████████████████████████████████████████| 9/9 [00:00<00:00, 105.20it/s, loss=4.57]\n"
     ]
    },
    {
     "name": "stdout",
     "output_type": "stream",
     "text": [
      "Epoch [238/300]: Train loss: 3.7368, Valid loss: 4.5932\n"
     ]
    },
    {
     "name": "stderr",
     "output_type": "stream",
     "text": [
      "Epoch [239/300]: 100%|██████████████████████████████████████████████████████████████████████████████| 9/9 [00:00<00:00, 104.21it/s, loss=4.41]\n"
     ]
    },
    {
     "name": "stdout",
     "output_type": "stream",
     "text": [
      "Epoch [239/300]: Train loss: 4.1837, Valid loss: 4.5156\n"
     ]
    },
    {
     "name": "stderr",
     "output_type": "stream",
     "text": [
      "Epoch [240/300]: 100%|██████████████████████████████████████████████████████████████████████████████| 9/9 [00:00<00:00, 102.73it/s, loss=6.34]\n"
     ]
    },
    {
     "name": "stdout",
     "output_type": "stream",
     "text": [
      "Epoch [240/300]: Train loss: 5.3535, Valid loss: 6.8116\n"
     ]
    },
    {
     "name": "stderr",
     "output_type": "stream",
     "text": [
      "Epoch [241/300]: 100%|██████████████████████████████████████████████████████████████████████████████| 9/9 [00:00<00:00, 102.64it/s, loss=2.15]\n"
     ]
    },
    {
     "name": "stdout",
     "output_type": "stream",
     "text": [
      "Epoch [241/300]: Train loss: 4.7692, Valid loss: 3.3797\n"
     ]
    },
    {
     "name": "stderr",
     "output_type": "stream",
     "text": [
      "Epoch [242/300]: 100%|██████████████████████████████████████████████████████████████████████████████| 9/9 [00:00<00:00, 103.72it/s, loss=2.81]\n"
     ]
    },
    {
     "name": "stdout",
     "output_type": "stream",
     "text": [
      "Epoch [242/300]: Train loss: 3.6831, Valid loss: 3.0923\n"
     ]
    },
    {
     "name": "stderr",
     "output_type": "stream",
     "text": [
      "Epoch [243/300]: 100%|█████████████████████████████████████████████████████████████████████████████████| 9/9 [00:00<00:00, 104.29it/s, loss=3]\n"
     ]
    },
    {
     "name": "stdout",
     "output_type": "stream",
     "text": [
      "Epoch [243/300]: Train loss: 3.1469, Valid loss: 3.6283\n"
     ]
    },
    {
     "name": "stderr",
     "output_type": "stream",
     "text": [
      "Epoch [244/300]: 100%|██████████████████████████████████████████████████████████████████████████████| 9/9 [00:00<00:00, 103.16it/s, loss=4.02]\n"
     ]
    },
    {
     "name": "stdout",
     "output_type": "stream",
     "text": [
      "Epoch [244/300]: Train loss: 3.2720, Valid loss: 3.0445\n"
     ]
    },
    {
     "name": "stderr",
     "output_type": "stream",
     "text": [
      "Epoch [245/300]: 100%|██████████████████████████████████████████████████████████████████████████████| 9/9 [00:00<00:00, 103.09it/s, loss=3.85]\n"
     ]
    },
    {
     "name": "stdout",
     "output_type": "stream",
     "text": [
      "Epoch [245/300]: Train loss: 3.2755, Valid loss: 3.9812\n"
     ]
    },
    {
     "name": "stderr",
     "output_type": "stream",
     "text": [
      "Epoch [246/300]: 100%|██████████████████████████████████████████████████████████████████████████████| 9/9 [00:00<00:00, 102.45it/s, loss=4.07]\n"
     ]
    },
    {
     "name": "stdout",
     "output_type": "stream",
     "text": [
      "Epoch [246/300]: Train loss: 3.3517, Valid loss: 4.0519\n"
     ]
    },
    {
     "name": "stderr",
     "output_type": "stream",
     "text": [
      "Epoch [247/300]: 100%|██████████████████████████████████████████████████████████████████████████████| 9/9 [00:00<00:00, 125.44it/s, loss=3.61]\n"
     ]
    },
    {
     "name": "stdout",
     "output_type": "stream",
     "text": [
      "Epoch [247/300]: Train loss: 3.9280, Valid loss: 3.9495\n"
     ]
    },
    {
     "name": "stderr",
     "output_type": "stream",
     "text": [
      "Epoch [248/300]: 100%|██████████████████████████████████████████████████████████████████████████████| 9/9 [00:00<00:00, 112.08it/s, loss=3.07]\n"
     ]
    },
    {
     "name": "stdout",
     "output_type": "stream",
     "text": [
      "Epoch [248/300]: Train loss: 3.8837, Valid loss: 3.1474\n"
     ]
    },
    {
     "name": "stderr",
     "output_type": "stream",
     "text": [
      "Epoch [249/300]: 100%|██████████████████████████████████████████████████████████████████████████████| 9/9 [00:00<00:00, 106.08it/s, loss=2.93]\n"
     ]
    },
    {
     "name": "stdout",
     "output_type": "stream",
     "text": [
      "Epoch [249/300]: Train loss: 3.7814, Valid loss: 4.2717\n"
     ]
    },
    {
     "name": "stderr",
     "output_type": "stream",
     "text": [
      "Epoch [250/300]: 100%|██████████████████████████████████████████████████████████████████████████████| 9/9 [00:00<00:00, 103.45it/s, loss=3.33]\n"
     ]
    },
    {
     "name": "stdout",
     "output_type": "stream",
     "text": [
      "Epoch [250/300]: Train loss: 3.2397, Valid loss: 4.9222\n"
     ]
    },
    {
     "name": "stderr",
     "output_type": "stream",
     "text": [
      "Epoch [251/300]: 100%|███████████████████████████████████████████████████████████████████████████████| 9/9 [00:00<00:00, 96.27it/s, loss=2.77]\n"
     ]
    },
    {
     "name": "stdout",
     "output_type": "stream",
     "text": [
      "Epoch [251/300]: Train loss: 3.6851, Valid loss: 2.8999\n"
     ]
    },
    {
     "name": "stderr",
     "output_type": "stream",
     "text": [
      "Epoch [252/300]: 100%|██████████████████████████████████████████████████████████████████████████████| 9/9 [00:00<00:00, 100.94it/s, loss=2.73]\n"
     ]
    },
    {
     "name": "stdout",
     "output_type": "stream",
     "text": [
      "Epoch [252/300]: Train loss: 3.1785, Valid loss: 3.6274\n"
     ]
    },
    {
     "name": "stderr",
     "output_type": "stream",
     "text": [
      "Epoch [253/300]: 100%|██████████████████████████████████████████████████████████████████████████████| 9/9 [00:00<00:00, 101.03it/s, loss=2.78]\n"
     ]
    },
    {
     "name": "stdout",
     "output_type": "stream",
     "text": [
      "Epoch [253/300]: Train loss: 3.2327, Valid loss: 4.0834\n"
     ]
    },
    {
     "name": "stderr",
     "output_type": "stream",
     "text": [
      "Epoch [254/300]: 100%|██████████████████████████████████████████████████████████████████████████████| 9/9 [00:00<00:00, 100.32it/s, loss=3.25]\n"
     ]
    },
    {
     "name": "stdout",
     "output_type": "stream",
     "text": [
      "Epoch [254/300]: Train loss: 3.4562, Valid loss: 3.2551\n"
     ]
    },
    {
     "name": "stderr",
     "output_type": "stream",
     "text": [
      "Epoch [255/300]: 100%|██████████████████████████████████████████████████████████████████████████████| 9/9 [00:00<00:00, 102.78it/s, loss=4.14]\n"
     ]
    },
    {
     "name": "stdout",
     "output_type": "stream",
     "text": [
      "Epoch [255/300]: Train loss: 3.3346, Valid loss: 4.1809\n"
     ]
    },
    {
     "name": "stderr",
     "output_type": "stream",
     "text": [
      "Epoch [256/300]: 100%|██████████████████████████████████████████████████████████████████████████████| 9/9 [00:00<00:00, 102.46it/s, loss=3.43]\n"
     ]
    },
    {
     "name": "stdout",
     "output_type": "stream",
     "text": [
      "Epoch [256/300]: Train loss: 3.5960, Valid loss: 2.6586\n",
      "Saving model with loss 2.659...\n"
     ]
    },
    {
     "name": "stderr",
     "output_type": "stream",
     "text": [
      "Epoch [257/300]: 100%|██████████████████████████████████████████████████████████████████████████████| 9/9 [00:00<00:00, 104.46it/s, loss=3.05]\n"
     ]
    },
    {
     "name": "stdout",
     "output_type": "stream",
     "text": [
      "Epoch [257/300]: Train loss: 3.5359, Valid loss: 3.5813\n"
     ]
    },
    {
     "name": "stderr",
     "output_type": "stream",
     "text": [
      "Epoch [258/300]: 100%|██████████████████████████████████████████████████████████████████████████████| 9/9 [00:00<00:00, 104.19it/s, loss=3.43]\n"
     ]
    },
    {
     "name": "stdout",
     "output_type": "stream",
     "text": [
      "Epoch [258/300]: Train loss: 3.4387, Valid loss: 3.4720\n"
     ]
    },
    {
     "name": "stderr",
     "output_type": "stream",
     "text": [
      "Epoch [259/300]: 100%|██████████████████████████████████████████████████████████████████████████████| 9/9 [00:00<00:00, 102.54it/s, loss=3.74]\n"
     ]
    },
    {
     "name": "stdout",
     "output_type": "stream",
     "text": [
      "Epoch [259/300]: Train loss: 4.6861, Valid loss: 3.5700\n"
     ]
    },
    {
     "name": "stderr",
     "output_type": "stream",
     "text": [
      "Epoch [260/300]: 100%|███████████████████████████████████████████████████████████████████████████████| 9/9 [00:00<00:00, 101.77it/s, loss=3.8]\n"
     ]
    },
    {
     "name": "stdout",
     "output_type": "stream",
     "text": [
      "Epoch [260/300]: Train loss: 4.2625, Valid loss: 7.1031\n"
     ]
    },
    {
     "name": "stderr",
     "output_type": "stream",
     "text": [
      "Epoch [261/300]: 100%|██████████████████████████████████████████████████████████████████████████████| 9/9 [00:00<00:00, 100.40it/s, loss=4.49]\n"
     ]
    },
    {
     "name": "stdout",
     "output_type": "stream",
     "text": [
      "Epoch [261/300]: Train loss: 5.0561, Valid loss: 3.9977\n"
     ]
    },
    {
     "name": "stderr",
     "output_type": "stream",
     "text": [
      "Epoch [262/300]: 100%|██████████████████████████████████████████████████████████████████████████████| 9/9 [00:00<00:00, 104.25it/s, loss=3.93]\n"
     ]
    },
    {
     "name": "stdout",
     "output_type": "stream",
     "text": [
      "Epoch [262/300]: Train loss: 4.0037, Valid loss: 6.6414\n"
     ]
    },
    {
     "name": "stderr",
     "output_type": "stream",
     "text": [
      "Epoch [263/300]: 100%|██████████████████████████████████████████████████████████████████████████████| 9/9 [00:00<00:00, 101.73it/s, loss=5.04]\n"
     ]
    },
    {
     "name": "stdout",
     "output_type": "stream",
     "text": [
      "Epoch [263/300]: Train loss: 4.8815, Valid loss: 3.5824\n"
     ]
    },
    {
     "name": "stderr",
     "output_type": "stream",
     "text": [
      "Epoch [264/300]: 100%|██████████████████████████████████████████████████████████████████████████████| 9/9 [00:00<00:00, 101.45it/s, loss=3.45]\n"
     ]
    },
    {
     "name": "stdout",
     "output_type": "stream",
     "text": [
      "Epoch [264/300]: Train loss: 5.0065, Valid loss: 5.7512\n"
     ]
    },
    {
     "name": "stderr",
     "output_type": "stream",
     "text": [
      "Epoch [265/300]: 100%|██████████████████████████████████████████████████████████████████████████████| 9/9 [00:00<00:00, 101.06it/s, loss=3.23]\n"
     ]
    },
    {
     "name": "stdout",
     "output_type": "stream",
     "text": [
      "Epoch [265/300]: Train loss: 4.9932, Valid loss: 4.4207\n"
     ]
    },
    {
     "name": "stderr",
     "output_type": "stream",
     "text": [
      "Epoch [266/300]: 100%|██████████████████████████████████████████████████████████████████████████████| 9/9 [00:00<00:00, 100.16it/s, loss=4.05]\n"
     ]
    },
    {
     "name": "stdout",
     "output_type": "stream",
     "text": [
      "Epoch [266/300]: Train loss: 4.4632, Valid loss: 5.1393\n"
     ]
    },
    {
     "name": "stderr",
     "output_type": "stream",
     "text": [
      "Epoch [267/300]: 100%|███████████████████████████████████████████████████████████████████████████████| 9/9 [00:00<00:00, 98.92it/s, loss=3.58]\n"
     ]
    },
    {
     "name": "stdout",
     "output_type": "stream",
     "text": [
      "Epoch [267/300]: Train loss: 4.1835, Valid loss: 4.5051\n"
     ]
    },
    {
     "name": "stderr",
     "output_type": "stream",
     "text": [
      "Epoch [268/300]: 100%|███████████████████████████████████████████████████████████████████████████████| 9/9 [00:00<00:00, 99.05it/s, loss=4.13]\n"
     ]
    },
    {
     "name": "stdout",
     "output_type": "stream",
     "text": [
      "Epoch [268/300]: Train loss: 3.5276, Valid loss: 5.4524\n"
     ]
    },
    {
     "name": "stderr",
     "output_type": "stream",
     "text": [
      "Epoch [269/300]: 100%|██████████████████████████████████████████████████████████████████████████████| 9/9 [00:00<00:00, 100.71it/s, loss=3.95]\n"
     ]
    },
    {
     "name": "stdout",
     "output_type": "stream",
     "text": [
      "Epoch [269/300]: Train loss: 3.3723, Valid loss: 3.0437\n"
     ]
    },
    {
     "name": "stderr",
     "output_type": "stream",
     "text": [
      "Epoch [270/300]: 100%|██████████████████████████████████████████████████████████████████████████████| 9/9 [00:00<00:00, 111.22it/s, loss=6.22]\n"
     ]
    },
    {
     "name": "stdout",
     "output_type": "stream",
     "text": [
      "Epoch [270/300]: Train loss: 4.1738, Valid loss: 2.5328\n",
      "Saving model with loss 2.533...\n"
     ]
    },
    {
     "name": "stderr",
     "output_type": "stream",
     "text": [
      "Epoch [271/300]: 100%|██████████████████████████████████████████████████████████████████████████████| 9/9 [00:00<00:00, 111.94it/s, loss=6.34]\n"
     ]
    },
    {
     "name": "stdout",
     "output_type": "stream",
     "text": [
      "Epoch [271/300]: Train loss: 4.0641, Valid loss: 5.0052\n"
     ]
    },
    {
     "name": "stderr",
     "output_type": "stream",
     "text": [
      "Epoch [272/300]: 100%|██████████████████████████████████████████████████████████████████████████████| 9/9 [00:00<00:00, 104.71it/s, loss=3.31]\n"
     ]
    },
    {
     "name": "stdout",
     "output_type": "stream",
     "text": [
      "Epoch [272/300]: Train loss: 4.5823, Valid loss: 3.1284\n"
     ]
    },
    {
     "name": "stderr",
     "output_type": "stream",
     "text": [
      "Epoch [273/300]: 100%|██████████████████████████████████████████████████████████████████████████████| 9/9 [00:00<00:00, 101.97it/s, loss=4.43]\n"
     ]
    },
    {
     "name": "stdout",
     "output_type": "stream",
     "text": [
      "Epoch [273/300]: Train loss: 3.7104, Valid loss: 2.6206\n"
     ]
    },
    {
     "name": "stderr",
     "output_type": "stream",
     "text": [
      "Epoch [274/300]: 100%|██████████████████████████████████████████████████████████████████████████████| 9/9 [00:00<00:00, 101.23it/s, loss=3.56]\n"
     ]
    },
    {
     "name": "stdout",
     "output_type": "stream",
     "text": [
      "Epoch [274/300]: Train loss: 4.2500, Valid loss: 4.4254\n"
     ]
    },
    {
     "name": "stderr",
     "output_type": "stream",
     "text": [
      "Epoch [275/300]: 100%|██████████████████████████████████████████████████████████████████████████████| 9/9 [00:00<00:00, 100.58it/s, loss=2.77]\n"
     ]
    },
    {
     "name": "stdout",
     "output_type": "stream",
     "text": [
      "Epoch [275/300]: Train loss: 3.2515, Valid loss: 3.1643\n"
     ]
    },
    {
     "name": "stderr",
     "output_type": "stream",
     "text": [
      "Epoch [276/300]: 100%|██████████████████████████████████████████████████████████████████████████████| 9/9 [00:00<00:00, 103.03it/s, loss=2.76]\n"
     ]
    },
    {
     "name": "stdout",
     "output_type": "stream",
     "text": [
      "Epoch [276/300]: Train loss: 3.3260, Valid loss: 3.7971\n"
     ]
    },
    {
     "name": "stderr",
     "output_type": "stream",
     "text": [
      "Epoch [277/300]: 100%|██████████████████████████████████████████████████████████████████████████████| 9/9 [00:00<00:00, 103.69it/s, loss=2.87]\n"
     ]
    },
    {
     "name": "stdout",
     "output_type": "stream",
     "text": [
      "Epoch [277/300]: Train loss: 3.0561, Valid loss: 3.0179\n"
     ]
    },
    {
     "name": "stderr",
     "output_type": "stream",
     "text": [
      "Epoch [278/300]: 100%|██████████████████████████████████████████████████████████████████████████████| 9/9 [00:00<00:00, 100.42it/s, loss=2.72]\n"
     ]
    },
    {
     "name": "stdout",
     "output_type": "stream",
     "text": [
      "Epoch [278/300]: Train loss: 2.8990, Valid loss: 2.5418\n"
     ]
    },
    {
     "name": "stderr",
     "output_type": "stream",
     "text": [
      "Epoch [279/300]: 100%|███████████████████████████████████████████████████████████████████████████████| 9/9 [00:00<00:00, 34.36it/s, loss=4.03]\n"
     ]
    },
    {
     "name": "stdout",
     "output_type": "stream",
     "text": [
      "Epoch [279/300]: Train loss: 2.9662, Valid loss: 3.2091\n"
     ]
    },
    {
     "name": "stderr",
     "output_type": "stream",
     "text": [
      "Epoch [280/300]: 100%|██████████████████████████████████████████████████████████████████████████████| 9/9 [00:00<00:00, 115.10it/s, loss=4.17]\n"
     ]
    },
    {
     "name": "stdout",
     "output_type": "stream",
     "text": [
      "Epoch [280/300]: Train loss: 3.7468, Valid loss: 6.0716\n"
     ]
    },
    {
     "name": "stderr",
     "output_type": "stream",
     "text": [
      "Epoch [281/300]: 100%|██████████████████████████████████████████████████████████████████████████████| 9/9 [00:00<00:00, 107.81it/s, loss=5.12]\n"
     ]
    },
    {
     "name": "stdout",
     "output_type": "stream",
     "text": [
      "Epoch [281/300]: Train loss: 4.3148, Valid loss: 3.4880\n"
     ]
    },
    {
     "name": "stderr",
     "output_type": "stream",
     "text": [
      "Epoch [282/300]: 100%|███████████████████████████████████████████████████████████████████████████████| 9/9 [00:00<00:00, 102.82it/s, loss=3.5]\n"
     ]
    },
    {
     "name": "stdout",
     "output_type": "stream",
     "text": [
      "Epoch [282/300]: Train loss: 4.5028, Valid loss: 5.5696\n"
     ]
    },
    {
     "name": "stderr",
     "output_type": "stream",
     "text": [
      "Epoch [283/300]: 100%|██████████████████████████████████████████████████████████████████████████████| 9/9 [00:00<00:00, 102.90it/s, loss=3.53]\n"
     ]
    },
    {
     "name": "stdout",
     "output_type": "stream",
     "text": [
      "Epoch [283/300]: Train loss: 3.6627, Valid loss: 2.8414\n"
     ]
    },
    {
     "name": "stderr",
     "output_type": "stream",
     "text": [
      "Epoch [284/300]: 100%|██████████████████████████████████████████████████████████████████████████████| 9/9 [00:00<00:00, 104.71it/s, loss=8.07]\n"
     ]
    },
    {
     "name": "stdout",
     "output_type": "stream",
     "text": [
      "Epoch [284/300]: Train loss: 4.1778, Valid loss: 2.9877\n"
     ]
    },
    {
     "name": "stderr",
     "output_type": "stream",
     "text": [
      "Epoch [285/300]: 100%|██████████████████████████████████████████████████████████████████████████████| 9/9 [00:00<00:00, 104.28it/s, loss=3.72]\n"
     ]
    },
    {
     "name": "stdout",
     "output_type": "stream",
     "text": [
      "Epoch [285/300]: Train loss: 4.2922, Valid loss: 3.9353\n"
     ]
    },
    {
     "name": "stderr",
     "output_type": "stream",
     "text": [
      "Epoch [286/300]: 100%|███████████████████████████████████████████████████████████████████████████████| 9/9 [00:00<00:00, 103.79it/s, loss=3.7]\n"
     ]
    },
    {
     "name": "stdout",
     "output_type": "stream",
     "text": [
      "Epoch [286/300]: Train loss: 3.5891, Valid loss: 4.2075\n"
     ]
    },
    {
     "name": "stderr",
     "output_type": "stream",
     "text": [
      "Epoch [287/300]: 100%|███████████████████████████████████████████████████████████████████████████████| 9/9 [00:00<00:00, 103.02it/s, loss=2.6]\n"
     ]
    },
    {
     "name": "stdout",
     "output_type": "stream",
     "text": [
      "Epoch [287/300]: Train loss: 3.1775, Valid loss: 2.9347\n"
     ]
    },
    {
     "name": "stderr",
     "output_type": "stream",
     "text": [
      "Epoch [288/300]: 100%|██████████████████████████████████████████████████████████████████████████████| 9/9 [00:00<00:00, 102.17it/s, loss=3.08]\n"
     ]
    },
    {
     "name": "stdout",
     "output_type": "stream",
     "text": [
      "Epoch [288/300]: Train loss: 2.9398, Valid loss: 2.9576\n"
     ]
    },
    {
     "name": "stderr",
     "output_type": "stream",
     "text": [
      "Epoch [289/300]: 100%|██████████████████████████████████████████████████████████████████████████████| 9/9 [00:00<00:00, 100.59it/s, loss=3.35]\n"
     ]
    },
    {
     "name": "stdout",
     "output_type": "stream",
     "text": [
      "Epoch [289/300]: Train loss: 3.1090, Valid loss: 4.5498\n"
     ]
    },
    {
     "name": "stderr",
     "output_type": "stream",
     "text": [
      "Epoch [290/300]: 100%|███████████████████████████████████████████████████████████████████████████████| 9/9 [00:00<00:00, 98.52it/s, loss=5.94]\n"
     ]
    },
    {
     "name": "stdout",
     "output_type": "stream",
     "text": [
      "Epoch [290/300]: Train loss: 3.8251, Valid loss: 6.3749\n"
     ]
    },
    {
     "name": "stderr",
     "output_type": "stream",
     "text": [
      "Epoch [291/300]: 100%|██████████████████████████████████████████████████████████████████████████████| 9/9 [00:00<00:00, 100.87it/s, loss=3.14]\n"
     ]
    },
    {
     "name": "stdout",
     "output_type": "stream",
     "text": [
      "Epoch [291/300]: Train loss: 4.3380, Valid loss: 5.0548\n"
     ]
    },
    {
     "name": "stderr",
     "output_type": "stream",
     "text": [
      "Epoch [292/300]: 100%|██████████████████████████████████████████████████████████████████████████████| 9/9 [00:00<00:00, 103.29it/s, loss=6.36]\n"
     ]
    },
    {
     "name": "stdout",
     "output_type": "stream",
     "text": [
      "Epoch [292/300]: Train loss: 5.6026, Valid loss: 5.2874\n"
     ]
    },
    {
     "name": "stderr",
     "output_type": "stream",
     "text": [
      "Epoch [293/300]: 100%|███████████████████████████████████████████████████████████████████████████████| 9/9 [00:00<00:00, 105.67it/s, loss=6.2]\n"
     ]
    },
    {
     "name": "stdout",
     "output_type": "stream",
     "text": [
      "Epoch [293/300]: Train loss: 5.1296, Valid loss: 2.9027\n"
     ]
    },
    {
     "name": "stderr",
     "output_type": "stream",
     "text": [
      "Epoch [294/300]: 100%|██████████████████████████████████████████████████████████████████████████████| 9/9 [00:00<00:00, 124.74it/s, loss=2.29]\n"
     ]
    },
    {
     "name": "stdout",
     "output_type": "stream",
     "text": [
      "Epoch [294/300]: Train loss: 3.7280, Valid loss: 4.2251\n"
     ]
    },
    {
     "name": "stderr",
     "output_type": "stream",
     "text": [
      "Epoch [295/300]: 100%|██████████████████████████████████████████████████████████████████████████████| 9/9 [00:00<00:00, 114.32it/s, loss=6.61]\n"
     ]
    },
    {
     "name": "stdout",
     "output_type": "stream",
     "text": [
      "Epoch [295/300]: Train loss: 4.6595, Valid loss: 2.6982\n"
     ]
    },
    {
     "name": "stderr",
     "output_type": "stream",
     "text": [
      "Epoch [296/300]: 100%|██████████████████████████████████████████████████████████████████████████████| 9/9 [00:00<00:00, 108.23it/s, loss=3.34]\n"
     ]
    },
    {
     "name": "stdout",
     "output_type": "stream",
     "text": [
      "Epoch [296/300]: Train loss: 3.8869, Valid loss: 2.5815\n"
     ]
    },
    {
     "name": "stderr",
     "output_type": "stream",
     "text": [
      "Epoch [297/300]: 100%|██████████████████████████████████████████████████████████████████████████████| 9/9 [00:00<00:00, 106.68it/s, loss=4.04]\n"
     ]
    },
    {
     "name": "stdout",
     "output_type": "stream",
     "text": [
      "Epoch [297/300]: Train loss: 3.1548, Valid loss: 2.5925\n"
     ]
    },
    {
     "name": "stderr",
     "output_type": "stream",
     "text": [
      "Epoch [298/300]: 100%|██████████████████████████████████████████████████████████████████████████████| 9/9 [00:00<00:00, 104.40it/s, loss=3.57]\n"
     ]
    },
    {
     "name": "stdout",
     "output_type": "stream",
     "text": [
      "Epoch [298/300]: Train loss: 3.1292, Valid loss: 2.9281\n"
     ]
    },
    {
     "name": "stderr",
     "output_type": "stream",
     "text": [
      "Epoch [299/300]: 100%|██████████████████████████████████████████████████████████████████████████████| 9/9 [00:00<00:00, 103.65it/s, loss=2.95]\n"
     ]
    },
    {
     "name": "stdout",
     "output_type": "stream",
     "text": [
      "Epoch [299/300]: Train loss: 3.0017, Valid loss: 3.7777\n"
     ]
    },
    {
     "name": "stderr",
     "output_type": "stream",
     "text": [
      "Epoch [300/300]: 100%|██████████████████████████████████████████████████████████████████████████████| 9/9 [00:00<00:00, 102.97it/s, loss=3.24]\n"
     ]
    },
    {
     "name": "stdout",
     "output_type": "stream",
     "text": [
      "Epoch [300/300]: Train loss: 3.4780, Valid loss: 2.5679\n"
     ]
    }
   ],
   "source": [
    "model = My_Model(input_dim=x_train.shape[1]).to(device) # put your model and data on the same computation device.\n",
    "trainer(train_loader, valid_loader, model, config, device)"
   ]
  },
  {
   "cell_type": "code",
   "execution_count": 30,
   "id": "d5f5aaca",
   "metadata": {},
   "outputs": [],
   "source": [
    "#use tensorboard to visualize\n",
    "\n",
    "#%reload_ext tensorboard\n",
    "#%tensorboard --logdir=./runs/"
   ]
  },
  {
   "cell_type": "code",
   "execution_count": null,
   "id": "cb43099a",
   "metadata": {},
   "outputs": [],
   "source": []
  }
 ],
 "metadata": {
  "kernelspec": {
   "display_name": "Python 3 (ipykernel)",
   "language": "python",
   "name": "python3"
  },
  "language_info": {
   "codemirror_mode": {
    "name": "ipython",
    "version": 3
   },
   "file_extension": ".py",
   "mimetype": "text/x-python",
   "name": "python",
   "nbconvert_exporter": "python",
   "pygments_lexer": "ipython3",
   "version": "3.10.9"
  }
 },
 "nbformat": 4,
 "nbformat_minor": 5
}
